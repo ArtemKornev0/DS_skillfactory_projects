{
 "cells": [
  {
   "cell_type": "markdown",
   "id": "c8a6af25-08d3-487a-bd90-001772ac9161",
   "metadata": {},
   "source": [
    "## <center> **Анализ результатов A/B-тестирования**"
   ]
  },
  {
   "attachments": {},
   "cell_type": "markdown",
   "id": "d7d45571-6545-4904-a86b-9b3b6b8163d3",
   "metadata": {},
   "source": [
    "Компания планирует запустить новую акцию, чтобы продавать больше туров. Разработано два варианта посадочной страницы официального сайта компании и проведено A/B-тестирование. Собранные в результате проведения эксперимента данные необходимо проанализировать.\n",
    "\n",
    "Требуется решить бизнес-задачу: проанализировать эффективность обоих вариантов посадочной страницы сразу по двум критериям: конверсии покупки и среднему чеку. На основе проведенного анализа необходимо сделать выводы и принять решение: какой из вариантов дизайна более предпочтительный.\n",
    "\n",
    "Предоставленные данные:\n",
    "\n",
    "Собранные данные: ab_data_tourist.csv\n",
    "\n",
    "Информация по вариантам туров и их стоимости:\n",
    "* Таиланд — 100000 рублей;\n",
    "* Турция — 60000 рублей;\n",
    "* Мальдивы — 200000 рублей;\n",
    "* Санкт-Петербург — 10000 рублей;\n",
    "* Камчатка — 150000 рублей."
   ]
  },
  {
   "cell_type": "code",
   "execution_count": 1,
   "id": "a974b482-e192-4014-8520-8a5c0c946da6",
   "metadata": {},
   "outputs": [],
   "source": [
    "# импорт библиотек\n",
    "import pandas as pd\n",
    "import matplotlib.pyplot as plt\n",
    "import seaborn as sns\n",
    "from scipy.stats import norm\n",
    "from scipy.stats import t\n",
    "from scipy.stats import ttest_ind, shapiro, f_oneway, mannwhitneyu\n",
    "from statsmodels.stats.proportion import proportions_ztest"
   ]
  },
  {
   "attachments": {},
   "cell_type": "markdown",
   "id": "55c84550-4162-4325-acc2-7d3c0aafe6f0",
   "metadata": {},
   "source": [
    "Загрузим данные и изучим таблицу:"
   ]
  },
  {
   "cell_type": "code",
   "execution_count": 2,
   "id": "b0d18245-b9da-44bd-8aea-d272ea74b63a",
   "metadata": {},
   "outputs": [
    {
     "data": {
      "text/html": [
       "<div>\n",
       "<style scoped>\n",
       "    .dataframe tbody tr th:only-of-type {\n",
       "        vertical-align: middle;\n",
       "    }\n",
       "\n",
       "    .dataframe tbody tr th {\n",
       "        vertical-align: top;\n",
       "    }\n",
       "\n",
       "    .dataframe thead th {\n",
       "        text-align: right;\n",
       "    }\n",
       "</style>\n",
       "<table border=\"1\" class=\"dataframe\">\n",
       "  <thead>\n",
       "    <tr style=\"text-align: right;\">\n",
       "      <th></th>\n",
       "      <th>user_id</th>\n",
       "      <th>date</th>\n",
       "      <th>group</th>\n",
       "      <th>purchase</th>\n",
       "      <th>price</th>\n",
       "    </tr>\n",
       "  </thead>\n",
       "  <tbody>\n",
       "    <tr>\n",
       "      <th>0</th>\n",
       "      <td>851104</td>\n",
       "      <td>2021-01-21</td>\n",
       "      <td>A</td>\n",
       "      <td>0</td>\n",
       "      <td>0</td>\n",
       "    </tr>\n",
       "    <tr>\n",
       "      <th>1</th>\n",
       "      <td>804228</td>\n",
       "      <td>2021-01-12</td>\n",
       "      <td>A</td>\n",
       "      <td>0</td>\n",
       "      <td>0</td>\n",
       "    </tr>\n",
       "    <tr>\n",
       "      <th>2</th>\n",
       "      <td>661590</td>\n",
       "      <td>2021-01-11</td>\n",
       "      <td>B</td>\n",
       "      <td>0</td>\n",
       "      <td>0</td>\n",
       "    </tr>\n",
       "    <tr>\n",
       "      <th>3</th>\n",
       "      <td>853541</td>\n",
       "      <td>2021-01-08</td>\n",
       "      <td>B</td>\n",
       "      <td>0</td>\n",
       "      <td>0</td>\n",
       "    </tr>\n",
       "    <tr>\n",
       "      <th>4</th>\n",
       "      <td>864975</td>\n",
       "      <td>2021-01-21</td>\n",
       "      <td>A</td>\n",
       "      <td>1</td>\n",
       "      <td>150000</td>\n",
       "    </tr>\n",
       "  </tbody>\n",
       "</table>\n",
       "</div>"
      ],
      "text/plain": [
       "   user_id        date group  purchase   price\n",
       "0   851104  2021-01-21     A         0       0\n",
       "1   804228  2021-01-12     A         0       0\n",
       "2   661590  2021-01-11     B         0       0\n",
       "3   853541  2021-01-08     B         0       0\n",
       "4   864975  2021-01-21     A         1  150000"
      ]
     },
     "execution_count": 2,
     "metadata": {},
     "output_type": "execute_result"
    }
   ],
   "source": [
    "data = pd.read_csv('data/ab_data_tourist.csv')\n",
    "data.head()"
   ]
  },
  {
   "attachments": {},
   "cell_type": "markdown",
   "id": "2fc48225-26ac-49c4-b99d-8b2a03dd74a1",
   "metadata": {
    "tags": []
   },
   "source": [
    "## **Задание 7.1.**\n",
    "\n",
    "Посмотрим на структуру данных. С помощью метода info() выведем информацию о типах данных и количестве непустых значений. "
   ]
  },
  {
   "cell_type": "code",
   "execution_count": 3,
   "id": "23496521-4878-46e2-ab02-1a98be14884a",
   "metadata": {},
   "outputs": [
    {
     "name": "stdout",
     "output_type": "stream",
     "text": [
      "<class 'pandas.core.frame.DataFrame'>\n",
      "RangeIndex: 294478 entries, 0 to 294477\n",
      "Data columns (total 5 columns):\n",
      " #   Column    Non-Null Count   Dtype \n",
      "---  ------    --------------   ----- \n",
      " 0   user_id   294478 non-null  int64 \n",
      " 1   date      294478 non-null  object\n",
      " 2   group     294478 non-null  object\n",
      " 3   purchase  294478 non-null  int64 \n",
      " 4   price     294478 non-null  int64 \n",
      "dtypes: int64(3), object(2)\n",
      "memory usage: 11.2+ MB\n"
     ]
    }
   ],
   "source": [
    "data.info()"
   ]
  },
  {
   "attachments": {},
   "cell_type": "markdown",
   "id": "78329d48",
   "metadata": {},
   "source": [
    "Столбец date имеет тип данных object, т.е. строковый."
   ]
  },
  {
   "attachments": {},
   "cell_type": "markdown",
   "id": "946d017d-b4fe-4a17-b91d-0ce369d1ab2e",
   "metadata": {
    "tags": []
   },
   "source": [
    "## **Задание 7.2.**\n",
    "\n",
    "Приведем столбец date к типу данных datetime. Убедимся в равной длительности проведения тестирования для каждой из группы. Для этого сгруппирем данные по признаку группы и определим первую и последнюю дату наблюдения для каждой из групп. "
   ]
  },
  {
   "cell_type": "code",
   "execution_count": 4,
   "id": "604c619d-6338-45c8-8248-ac098a2366bb",
   "metadata": {},
   "outputs": [
    {
     "name": "stdout",
     "output_type": "stream",
     "text": [
      "  group    date_min    date_max\n",
      "0     A  2021-01-02  2021-01-24\n",
      "1     B  2021-01-02  2021-01-24\n",
      "\n",
      "Длительности проведения тестирования каждой группы равны\n",
      "\n",
      "Тест проводился в промежуток с 2021-01-02 по 2021-01-24\n"
     ]
    }
   ],
   "source": [
    "# помимо приведения к типу datetime выделим дату в чистом виде\n",
    "data['date'] = pd.to_datetime(data['date'])\n",
    "data['date'] = data['date'].dt.date\n",
    "# сгруппируем данные по группам А и В, и найдем минимум и максимум\n",
    "date_min = data.groupby('group', as_index=False).agg({'date': 'min'}).rename(columns={'date': 'date_min'})\n",
    "date_max = data.groupby('group', as_index=False).agg({'date': 'max'}).rename(columns={'date': 'date_max'})\n",
    "# объединим эти выборки и выведем \n",
    "print(pd.merge(date_min, date_max, on='group'))\n",
    "print()\n",
    "# проверим, что начало и конец тестирования для групп А и В совпадают\n",
    "if (date_min.date_min[0] == date_min.date_min[1]) & (date_max.date_max[0] == date_max.date_max[1]):\n",
    "    print('Длительности проведения тестирования каждой группы равны')\n",
    "else:\n",
    "    print('Длительности проведения тестирования каждой группы НЕ равны')\n",
    "print()\n",
    "print(f'Тест проводился в промежуток с {date_min.date_min.min()} по {date_max.date_max.max()}')"
   ]
  },
  {
   "attachments": {},
   "cell_type": "markdown",
   "id": "e04eb341-52ae-48b3-9dc2-0578ca91641a",
   "metadata": {},
   "source": [
    "## **Задание 7.3.**\n",
    "\n",
    "* Чему равно количество посещений сайта в группах А и B?\n",
    "\n",
    "* Чему равно суммарное количество покупок в группах А и B?\n",
    "\n",
    "* Чему равна общая сумма всех покупок в группах А и B? Ответ приведем в миллионах рублей. "
   ]
  },
  {
   "cell_type": "code",
   "execution_count": 5,
   "id": "02bf0148-488e-4f34-95bf-37794b2fa98b",
   "metadata": {},
   "outputs": [
    {
     "data": {
      "text/html": [
       "<div>\n",
       "<style scoped>\n",
       "    .dataframe tbody tr th:only-of-type {\n",
       "        vertical-align: middle;\n",
       "    }\n",
       "\n",
       "    .dataframe tbody tr th {\n",
       "        vertical-align: top;\n",
       "    }\n",
       "\n",
       "    .dataframe thead th {\n",
       "        text-align: right;\n",
       "    }\n",
       "</style>\n",
       "<table border=\"1\" class=\"dataframe\">\n",
       "  <thead>\n",
       "    <tr style=\"text-align: right;\">\n",
       "      <th></th>\n",
       "      <th>visit_count</th>\n",
       "      <th>purchase_count</th>\n",
       "      <th>purchase_sum</th>\n",
       "    </tr>\n",
       "    <tr>\n",
       "      <th>group</th>\n",
       "      <th></th>\n",
       "      <th></th>\n",
       "      <th></th>\n",
       "    </tr>\n",
       "  </thead>\n",
       "  <tbody>\n",
       "    <tr>\n",
       "      <th>A</th>\n",
       "      <td>147202</td>\n",
       "      <td>17723</td>\n",
       "      <td>1436.26</td>\n",
       "    </tr>\n",
       "    <tr>\n",
       "      <th>B</th>\n",
       "      <td>147276</td>\n",
       "      <td>17514</td>\n",
       "      <td>1554.10</td>\n",
       "    </tr>\n",
       "  </tbody>\n",
       "</table>\n",
       "</div>"
      ],
      "text/plain": [
       "       visit_count  purchase_count  purchase_sum\n",
       "group                                           \n",
       "A           147202           17723       1436.26\n",
       "B           147276           17514       1554.10"
      ]
     },
     "execution_count": 5,
     "metadata": {},
     "output_type": "execute_result"
    }
   ],
   "source": [
    "# сгруппируем по группам А и В и посчитаем требуемое для каждой группы\n",
    "vizits = data.groupby('group').agg({'user_id': 'count', 'purchase': 'sum', 'price': 'sum'})\n",
    "vizits = vizits.rename(columns={'user_id': 'visit_count', 'purchase': 'purchase_count', 'price': 'purchase_sum'})\n",
    "vizits['purchase_sum'] = vizits['purchase_sum'].apply(lambda x: x/10**6)\n",
    "# вывод в соответствии с вопросами\n",
    "vizits"
   ]
  },
  {
   "attachments": {},
   "cell_type": "markdown",
   "id": "2434db1b-17e6-4977-8e54-1df875c6f221",
   "metadata": {
    "tags": []
   },
   "source": [
    "## **Задание 7.4.**\n",
    "\n",
    "Проверим, есть ли пользователи, которые в процессе A/B-теста попали в обе тестовые группы? Если да, то определим их количество, если нет - укажем 0."
   ]
  },
  {
   "cell_type": "code",
   "execution_count": 6,
   "id": "57a2d711-057d-4f8b-9f56-df0f772d41c8",
   "metadata": {},
   "outputs": [
    {
     "name": "stdout",
     "output_type": "stream",
     "text": [
      "Есть пользователи, которые попали в обе тестовые группы. Их количество = 1895\n"
     ]
    }
   ],
   "source": [
    "# сформируем два списка пользователей в группах А и В  \n",
    "# по  уникальному user_id и определим их пересечение, \n",
    "# т.е. найдем user_id, которые входят в обе группы\n",
    "user_a = set(data[data['group'] == 'A']['user_id'].to_list())\n",
    "user_b = set(data[data['group'] == 'B']['user_id'].to_list())\n",
    "user_intersection = user_a.intersection(user_b)\n",
    "if user_intersection == 0:\n",
    "    print('Нет пользователей, которые попали в обе тестовые группы. Их количество = 0')\n",
    "else:\n",
    "    print('Есть пользователи, которые попали в обе тестовые группы. Их количество =', len(user_intersection))"
   ]
  },
  {
   "attachments": {},
   "cell_type": "markdown",
   "id": "118b1904-7d7a-4935-825e-535da45c611b",
   "metadata": {
    "tags": []
   },
   "source": [
    "### **Исключим пользователей, оказавшихся в обеих группах**\n",
    "\n",
    "Так как нет возможности определить, какая из версий сайта повлияла на принятие решения, исключим этих пользователей. Далее будем работать только с очищенными от пересечений данными."
   ]
  },
  {
   "cell_type": "code",
   "execution_count": 7,
   "id": "f618b34b-35a3-4bf1-8d6d-38b3401930b7",
   "metadata": {},
   "outputs": [
    {
     "name": "stdout",
     "output_type": "stream",
     "text": [
      "<class 'pandas.core.frame.DataFrame'>\n",
      "Int64Index: 290688 entries, 0 to 294477\n",
      "Data columns (total 5 columns):\n",
      " #   Column    Non-Null Count   Dtype \n",
      "---  ------    --------------   ----- \n",
      " 0   user_id   290688 non-null  int64 \n",
      " 1   date      290688 non-null  object\n",
      " 2   group     290688 non-null  object\n",
      " 3   purchase  290688 non-null  int64 \n",
      " 4   price     290688 non-null  int64 \n",
      "dtypes: int64(3), object(2)\n",
      "memory usage: 13.3+ MB\n"
     ]
    }
   ],
   "source": [
    "# исключим записи с user_id, которые входят в пересечение,\n",
    "# ulе user_intersection - множество пересечений пользователей групп А и B.\n",
    "updated_data = data[data['user_id'].apply(lambda x: x not in user_intersection)]\n",
    "\n",
    "updated_data.info()"
   ]
  },
  {
   "attachments": {
    "95f235d2-6323-4799-bf69-697fc57f727b.png": {
     "image/png": "[encoded data removed]"
    }
   },
   "cell_type": "markdown",
   "id": "2ddf6b2c-7987-41f3-82b1-8992630ae97b",
   "metadata": {
    "tags": []
   },
   "source": [
    "## **Задание 7.5.**\n",
    "\n",
    "Для первичного анализа результатов A/B-тестирования подготовим таблицу следующего вида:\n",
    "\n",
    "![image.png](attachment:95f235d2-6323-4799-bf69-697fc57f727b.png)\n",
    " \n",
    " \n",
    "Для того, чтобы получить такую таблицу, сгруппируем данные по признаку группы. В каждой группе рассчитаем следующие показатели:\n",
    "* количество посещений (количество пользователей)\n",
    "* количество совершенных покупок\n",
    "* сумма всех покупок в группе\n",
    "\n",
    "В полученной сгруппированной таблице переименуем столбцы на **count_visits, count_purchases и sum_price**.\n",
    "\n",
    "Определим чему равно количество посещений сайта в группах А и B?\n"
   ]
  },
  {
   "cell_type": "code",
   "execution_count": 8,
   "id": "5c0c018e-a250-48e9-b72a-e3c7be586ebd",
   "metadata": {},
   "outputs": [
    {
     "name": "stdout",
     "output_type": "stream",
     "text": [
      "Количество посещений сайта в группах А и В составляет: 145307 и 145381, соответственно.\n"
     ]
    },
    {
     "data": {
      "text/html": [
       "<div>\n",
       "<style scoped>\n",
       "    .dataframe tbody tr th:only-of-type {\n",
       "        vertical-align: middle;\n",
       "    }\n",
       "\n",
       "    .dataframe tbody tr th {\n",
       "        vertical-align: top;\n",
       "    }\n",
       "\n",
       "    .dataframe thead th {\n",
       "        text-align: right;\n",
       "    }\n",
       "</style>\n",
       "<table border=\"1\" class=\"dataframe\">\n",
       "  <thead>\n",
       "    <tr style=\"text-align: right;\">\n",
       "      <th></th>\n",
       "      <th>group</th>\n",
       "      <th>count_visits</th>\n",
       "      <th>count_purchases</th>\n",
       "      <th>sum_price</th>\n",
       "    </tr>\n",
       "  </thead>\n",
       "  <tbody>\n",
       "    <tr>\n",
       "      <th>0</th>\n",
       "      <td>A</td>\n",
       "      <td>145307</td>\n",
       "      <td>17487</td>\n",
       "      <td>1417780000</td>\n",
       "    </tr>\n",
       "    <tr>\n",
       "      <th>1</th>\n",
       "      <td>B</td>\n",
       "      <td>145381</td>\n",
       "      <td>17290</td>\n",
       "      <td>1533010000</td>\n",
       "    </tr>\n",
       "  </tbody>\n",
       "</table>\n",
       "</div>"
      ],
      "text/plain": [
       "  group  count_visits  count_purchases   sum_price\n",
       "0     A        145307            17487  1417780000\n",
       "1     B        145381            17290  1533010000"
      ]
     },
     "execution_count": 8,
     "metadata": {},
     "output_type": "execute_result"
    }
   ],
   "source": [
    "data_group = updated_data.groupby('group').agg({'user_id': 'count', 'purchase': 'sum', 'price': 'sum'})\n",
    "data_group = data_group.rename(columns={'user_id': 'count_visits', 'purchase': 'count_purchases', 'price': 'sum_price'}).reset_index()\n",
    "\n",
    "print(f'Количество посещений сайта в группах А и В составляет: {data_group.count_visits[0]} и {data_group.count_visits[1]}, соответственно.')\n",
    "\n",
    "# вывод всей таблицы\n",
    "data_group"
   ]
  },
  {
   "attachments": {},
   "cell_type": "markdown",
   "id": "4ea1b65b-475e-4bff-9460-fac0acdb9620",
   "metadata": {},
   "source": [
    "Промежуточные выводы:\n",
    "\n",
    "Количество посещений обоих вариантов посадочной странице сопоставимо, разница составляет всего 0.05 %. Можно говорить о том, что выборки сбалансированы."
   ]
  },
  {
   "attachments": {},
   "cell_type": "markdown",
   "id": "afb2ee0a-31d1-45a5-be42-a2bf168b9448",
   "metadata": {
    "tags": []
   },
   "source": [
    "## **Задание 7.6.**\n",
    "\n",
    "Добавим в сгруппированную таблицу столбцы conversion - конверсия покупки (отношение количества покупок к количеству посещений сайта в каждой группе, выраженное в процентах) и mean_check - средний чек (отношение суммы покупок к количеству покупок в каждой группе).\n",
    "\n",
    "* Определим чему равна конверсия в группах (ответ в процентах и округлен до сотых)\n",
    "* Определим чему равен средний чек в группах (ответ в рублях и округлен до целых)"
   ]
  },
  {
   "cell_type": "code",
   "execution_count": 9,
   "id": "bd9c3b3e-5956-41a8-bae0-43693f6de1f2",
   "metadata": {},
   "outputs": [
    {
     "name": "stdout",
     "output_type": "stream",
     "text": [
      "Конверсия покупки в группе А: 12.03\n",
      "Конверсия покупки в группе В: 11.89\n",
      "\n",
      "Средний чек в группе А: 81076.0\n",
      "Средний чек в группе В: 88665.0\n"
     ]
    },
    {
     "data": {
      "text/html": [
       "<div>\n",
       "<style scoped>\n",
       "    .dataframe tbody tr th:only-of-type {\n",
       "        vertical-align: middle;\n",
       "    }\n",
       "\n",
       "    .dataframe tbody tr th {\n",
       "        vertical-align: top;\n",
       "    }\n",
       "\n",
       "    .dataframe thead th {\n",
       "        text-align: right;\n",
       "    }\n",
       "</style>\n",
       "<table border=\"1\" class=\"dataframe\">\n",
       "  <thead>\n",
       "    <tr style=\"text-align: right;\">\n",
       "      <th></th>\n",
       "      <th>group</th>\n",
       "      <th>count_visits</th>\n",
       "      <th>count_purchases</th>\n",
       "      <th>sum_price</th>\n",
       "      <th>conversion</th>\n",
       "      <th>mean_check</th>\n",
       "    </tr>\n",
       "  </thead>\n",
       "  <tbody>\n",
       "    <tr>\n",
       "      <th>0</th>\n",
       "      <td>A</td>\n",
       "      <td>145307</td>\n",
       "      <td>17487</td>\n",
       "      <td>1417780000</td>\n",
       "      <td>12.034520</td>\n",
       "      <td>81076.0</td>\n",
       "    </tr>\n",
       "    <tr>\n",
       "      <th>1</th>\n",
       "      <td>B</td>\n",
       "      <td>145381</td>\n",
       "      <td>17290</td>\n",
       "      <td>1533010000</td>\n",
       "      <td>11.892888</td>\n",
       "      <td>88665.0</td>\n",
       "    </tr>\n",
       "  </tbody>\n",
       "</table>\n",
       "</div>"
      ],
      "text/plain": [
       "  group  count_visits  count_purchases   sum_price  conversion  mean_check\n",
       "0     A        145307            17487  1417780000   12.034520     81076.0\n",
       "1     B        145381            17290  1533010000   11.892888     88665.0"
      ]
     },
     "execution_count": 9,
     "metadata": {},
     "output_type": "execute_result"
    }
   ],
   "source": [
    "data_group['conversion'] = data_group['count_purchases']/data_group['count_visits']*100\n",
    "data_group['mean_check'] = round(data_group['sum_price']/data_group['count_purchases'])\n",
    "\n",
    "print(f'Конверсия покупки в группе А: {round(data_group.conversion[0], 2)}')\n",
    "print(f'Конверсия покупки в группе В: {round(data_group.conversion[1], 2)}')\n",
    "print()\n",
    "print(f'Средний чек в группе А: {data_group.mean_check[0]}')\n",
    "print(f'Средний чек в группе В: {data_group.mean_check[1]}')\n",
    "\n",
    "# вывод всей таблицы\n",
    "data_group"
   ]
  },
  {
   "attachments": {},
   "cell_type": "markdown",
   "id": "9e88c883-84f9-44ec-accd-04d5d459b261",
   "metadata": {},
   "source": [
    "Промежуточные выводы:\n",
    "\n",
    "По показателю \"конверсия покупки\" вариант А эффективнее (на 1.2 %). По показателю \"средний чек\" вариант В эффективнее (на 8.5 %). "
   ]
  },
  {
   "attachments": {},
   "cell_type": "markdown",
   "id": "7f9f1ae0-f12f-49b3-8b57-1c299c208c49",
   "metadata": {
    "tags": []
   },
   "source": [
    "## **Задание 7.7.**\n",
    "\n",
    "Теперь сравним варианты по покупательской способности туров. Для этого построим сводную таблицу, которая покажет зависимость количества продаж от группы и цены тура. "
   ]
  },
  {
   "cell_type": "code",
   "execution_count": 10,
   "id": "78d46a02-cc30-4783-9b18-9fc9c6a08012",
   "metadata": {},
   "outputs": [
    {
     "data": {
      "text/html": [
       "<div>\n",
       "<style scoped>\n",
       "    .dataframe tbody tr th:only-of-type {\n",
       "        vertical-align: middle;\n",
       "    }\n",
       "\n",
       "    .dataframe tbody tr th {\n",
       "        vertical-align: top;\n",
       "    }\n",
       "\n",
       "    .dataframe thead th {\n",
       "        text-align: right;\n",
       "    }\n",
       "</style>\n",
       "<table border=\"1\" class=\"dataframe\">\n",
       "  <thead>\n",
       "    <tr style=\"text-align: right;\">\n",
       "      <th>price</th>\n",
       "      <th>10000</th>\n",
       "      <th>60000</th>\n",
       "      <th>100000</th>\n",
       "      <th>150000</th>\n",
       "      <th>200000</th>\n",
       "    </tr>\n",
       "    <tr>\n",
       "      <th>group</th>\n",
       "      <th></th>\n",
       "      <th></th>\n",
       "      <th></th>\n",
       "      <th></th>\n",
       "      <th></th>\n",
       "    </tr>\n",
       "  </thead>\n",
       "  <tbody>\n",
       "    <tr>\n",
       "      <th>A</th>\n",
       "      <td>5182</td>\n",
       "      <td>5271</td>\n",
       "      <td>1832</td>\n",
       "      <td>3478</td>\n",
       "      <td>1724</td>\n",
       "    </tr>\n",
       "    <tr>\n",
       "      <th>B</th>\n",
       "      <td>5201</td>\n",
       "      <td>1730</td>\n",
       "      <td>5227</td>\n",
       "      <td>3438</td>\n",
       "      <td>1694</td>\n",
       "    </tr>\n",
       "  </tbody>\n",
       "</table>\n",
       "</div>"
      ],
      "text/plain": [
       "price  10000   60000   100000  150000  200000\n",
       "group                                        \n",
       "A        5182    5271    1832    3478    1724\n",
       "B        5201    1730    5227    3438    1694"
      ]
     },
     "execution_count": 10,
     "metadata": {},
     "output_type": "execute_result"
    }
   ],
   "source": [
    "data_pivot = pd.pivot_table(\n",
    "    data=updated_data[updated_data['purchase'] == 1],\n",
    "    values='purchase',\n",
    "    index='group',\n",
    "    columns='price',\n",
    "    aggfunc='sum'\n",
    ")\n",
    "\n",
    "# вывод всей таблицы\n",
    "data_pivot"
   ]
  },
  {
   "attachments": {},
   "cell_type": "markdown",
   "id": "977423ed-8f8d-475c-b773-621edd95338d",
   "metadata": {},
   "source": [
    "Визуализируем полученную сводную таблицу с помощью тепловой карты с аннотацией. \n",
    "\n",
    "Определим чему равно количество проданных туров за 60000 рублей в группах А и В."
   ]
  },
  {
   "cell_type": "code",
   "execution_count": 11,
   "id": "f634fa8d-585c-42e3-b7d5-78e8d9eaa8c5",
   "metadata": {},
   "outputs": [
    {
     "data": {
      "text/plain": [
       "<Axes: xlabel='price', ylabel='group'>"
      ]
     },
     "execution_count": 11,
     "metadata": {},
     "output_type": "execute_result"
    },
    {
     "data": {
      "image/png": "[encoded data removed]",
      "text/plain": [
       "<Figure size 1400x400 with 2 Axes>"
      ]
     },
     "metadata": {},
     "output_type": "display_data"
    }
   ],
   "source": [
    "plt.figure(figsize = (14,4))\n",
    "\n",
    "sns.heatmap(data_pivot, annot=True, fmt=\" d\", annot_kws={'size': 16})"
   ]
  },
  {
   "attachments": {},
   "cell_type": "markdown",
   "id": "1c84848e",
   "metadata": {},
   "source": [
    "Количество проданных туров за 60000 рублей в группах А и В составляет: 5271 и 1730, соответственно."
   ]
  },
  {
   "attachments": {},
   "cell_type": "markdown",
   "id": "6d13fd45-e3df-468f-9d32-1fc45d38b10c",
   "metadata": {},
   "source": [
    "Выводы по покупательной способности участников групп А и В:\n",
    "\n",
    "Покупательская способность участников группы А выше, чем участников группы B по туру \"60000 рублей\". Покупательская способность участников группы В выше, чем участников группы А по туру \"100000 рублей\". По остальным турам покупательные способности участников рупп А и В примерно равны (разница не более 1.7 %)."
   ]
  },
  {
   "attachments": {},
   "cell_type": "markdown",
   "id": "8f021fb4-d0f6-4e43-b518-1a96c07a4531",
   "metadata": {
    "tags": []
   },
   "source": [
    "## **Задание 7.8.**\n",
    "\n",
    "Построим таблицу с ежедневными данными результатов проведения A/B-тестирования.\n",
    "\n",
    "Сгруппируем данные по дате и группе тестирования. В каждой группе вычислим количество посещений страницы, количество покупок и сумму покупок. \n",
    "\n",
    "Добавим в таблицу информацию о ежедневной конверсии (ежедневное количество покупок / ежедневное количество посещений) в группе и ежедневном среднем чеке (ежедневная сумма покупок / ежедневное количество покупок)\n",
    "* Определим чему равна конверсия 3 января 2021 года (ответ в процентах и округлен до сотых)\n",
    "\n",
    "* Определим чему равен средний чек 3 января 2021 года (ответ в рублях и округлен до целого)"
   ]
  },
  {
   "cell_type": "code",
   "execution_count": 12,
   "id": "4503b528-412e-433a-bc03-da7da52fa1a3",
   "metadata": {},
   "outputs": [
    {
     "name": "stdout",
     "output_type": "stream",
     "text": [
      "Конверсия 3 января 2021 года для группы А =  11.34\n",
      "Конверсия 3 января 2021 года для группы В =  11.39\n",
      "\n",
      "Средний чек 3 января 2021 года для группы А =  82888\n",
      "Средний чек 3 января 2021 года для группы В =  87480\n"
     ]
    },
    {
     "data": {
      "text/html": [
       "<div>\n",
       "<style scoped>\n",
       "    .dataframe tbody tr th:only-of-type {\n",
       "        vertical-align: middle;\n",
       "    }\n",
       "\n",
       "    .dataframe tbody tr th {\n",
       "        vertical-align: top;\n",
       "    }\n",
       "\n",
       "    .dataframe thead th {\n",
       "        text-align: right;\n",
       "    }\n",
       "</style>\n",
       "<table border=\"1\" class=\"dataframe\">\n",
       "  <thead>\n",
       "    <tr style=\"text-align: right;\">\n",
       "      <th></th>\n",
       "      <th>date</th>\n",
       "      <th>group</th>\n",
       "      <th>daily_visits</th>\n",
       "      <th>daily_purchases</th>\n",
       "      <th>daily_sum</th>\n",
       "      <th>daily_conversion</th>\n",
       "      <th>daily_mean_check</th>\n",
       "    </tr>\n",
       "  </thead>\n",
       "  <tbody>\n",
       "    <tr>\n",
       "      <th>0</th>\n",
       "      <td>2021-01-02</td>\n",
       "      <td>A</td>\n",
       "      <td>2854</td>\n",
       "      <td>359</td>\n",
       "      <td>29410000</td>\n",
       "      <td>12.578837</td>\n",
       "      <td>81922.0</td>\n",
       "    </tr>\n",
       "    <tr>\n",
       "      <th>1</th>\n",
       "      <td>2021-01-02</td>\n",
       "      <td>B</td>\n",
       "      <td>2861</td>\n",
       "      <td>345</td>\n",
       "      <td>29660000</td>\n",
       "      <td>12.058721</td>\n",
       "      <td>85971.0</td>\n",
       "    </tr>\n",
       "    <tr>\n",
       "      <th>2</th>\n",
       "      <td>2021-01-03</td>\n",
       "      <td>A</td>\n",
       "      <td>6596</td>\n",
       "      <td>748</td>\n",
       "      <td>62000000</td>\n",
       "      <td>11.340206</td>\n",
       "      <td>82888.0</td>\n",
       "    </tr>\n",
       "    <tr>\n",
       "      <th>3</th>\n",
       "      <td>2021-01-03</td>\n",
       "      <td>B</td>\n",
       "      <td>6619</td>\n",
       "      <td>754</td>\n",
       "      <td>65960000</td>\n",
       "      <td>11.391449</td>\n",
       "      <td>87480.0</td>\n",
       "    </tr>\n",
       "    <tr>\n",
       "      <th>4</th>\n",
       "      <td>2021-01-04</td>\n",
       "      <td>A</td>\n",
       "      <td>6566</td>\n",
       "      <td>799</td>\n",
       "      <td>64250000</td>\n",
       "      <td>12.168748</td>\n",
       "      <td>80413.0</td>\n",
       "    </tr>\n",
       "  </tbody>\n",
       "</table>\n",
       "</div>"
      ],
      "text/plain": [
       "        date group  daily_visits  daily_purchases  daily_sum  \\\n",
       "0 2021-01-02     A          2854              359   29410000   \n",
       "1 2021-01-02     B          2861              345   29660000   \n",
       "2 2021-01-03     A          6596              748   62000000   \n",
       "3 2021-01-03     B          6619              754   65960000   \n",
       "4 2021-01-04     A          6566              799   64250000   \n",
       "\n",
       "   daily_conversion  daily_mean_check  \n",
       "0         12.578837           81922.0  \n",
       "1         12.058721           85971.0  \n",
       "2         11.340206           82888.0  \n",
       "3         11.391449           87480.0  \n",
       "4         12.168748           80413.0  "
      ]
     },
     "execution_count": 12,
     "metadata": {},
     "output_type": "execute_result"
    }
   ],
   "source": [
    "# используем таблицу, очищенную от пересечений посещений в группах\n",
    "daily_data = updated_data.groupby(['date', 'group']).agg({'user_id': 'count', 'purchase': 'sum', 'price': 'sum'}).reset_index()\n",
    "daily_data = daily_data.rename(columns={'user_id': 'daily_visits', 'purchase': 'daily_purchases', 'price': 'daily_sum'})\n",
    "# создаем новые признаки ежедневных конверсии и среднего чека\n",
    "daily_data['daily_conversion'] = daily_data['daily_purchases']/daily_data['daily_visits']*100\n",
    "daily_data['daily_mean_check'] = round(daily_data['daily_sum']/daily_data['daily_purchases'])\n",
    "# приведем дату к правильному формату datetime\n",
    "daily_data['date'] = pd.to_datetime(daily_data['date'])\n",
    "# маски для групп А и В\n",
    "mask_a = (daily_data['date'] == '2021-01-03') & (daily_data['group'] == 'A')\n",
    "mask_b = (daily_data['date'] == '2021-01-03') & (daily_data['group'] == 'B')\n",
    "# ответы на поставленные вопросы\n",
    "print('Конверсия 3 января 2021 года для группы А = ', round(daily_data[mask_a]['daily_conversion'].values[0], 2))\n",
    "print('Конверсия 3 января 2021 года для группы В = ', round(daily_data[mask_b]['daily_conversion'].values[0], 2))\n",
    "print()\n",
    "print('Средний чек 3 января 2021 года для группы А = ', int(daily_data[mask_a]['daily_mean_check'].values[0]))\n",
    "print('Средний чек 3 января 2021 года для группы В = ', int(daily_data[mask_b]['daily_mean_check'].values[0]))\n",
    "# вывод всей таблицы\n",
    "daily_data.head()\n"
   ]
  },
  {
   "attachments": {},
   "cell_type": "markdown",
   "id": "bc8e241b-1ef1-4f67-ab90-77251889b7f2",
   "metadata": {},
   "source": [
    "## **Задание 7.9.** \n",
    "\n",
    "Добавим в таблицу с ежедневными показателями кумулятивные признаки:\n",
    "* кумулятивное количество посещений страницы\n",
    "* кумулятивное количество покупок\n",
    "* кумулятивную сумму покупок\n",
    "\n",
    "Вычислим кумулятивную конверсию и кумулятивный средний чек на основе полученных кумулятивных показателей. \n",
    "\n",
    "* Определим какая **кумулятивная** конверсия была в группе B на 20 января 2021 года (ответ в процентах, округлен до сотых)\n",
    "* Определи какой **кумулятивный** средний чек был в группе А на 12 января 2021 года (ответ в рублях, округлен до целых)"
   ]
  },
  {
   "cell_type": "code",
   "execution_count": 13,
   "id": "afe59f9a-8d39-45c1-a14f-9f62091d81a1",
   "metadata": {},
   "outputs": [
    {
     "name": "stdout",
     "output_type": "stream",
     "text": [
      "Кумулятивная конверсия в группе B на 20 января 2021 года:  11.9\n",
      "Кумулятивный средний чек в группе А на 12 января 2021 года:  81492\n"
     ]
    },
    {
     "data": {
      "text/html": [
       "<div>\n",
       "<style scoped>\n",
       "    .dataframe tbody tr th:only-of-type {\n",
       "        vertical-align: middle;\n",
       "    }\n",
       "\n",
       "    .dataframe tbody tr th {\n",
       "        vertical-align: top;\n",
       "    }\n",
       "\n",
       "    .dataframe thead th {\n",
       "        text-align: right;\n",
       "    }\n",
       "</style>\n",
       "<table border=\"1\" class=\"dataframe\">\n",
       "  <thead>\n",
       "    <tr style=\"text-align: right;\">\n",
       "      <th></th>\n",
       "      <th>date</th>\n",
       "      <th>group</th>\n",
       "      <th>daily_visits</th>\n",
       "      <th>daily_purchases</th>\n",
       "      <th>daily_sum</th>\n",
       "      <th>daily_conversion</th>\n",
       "      <th>daily_mean_check</th>\n",
       "      <th>cum_daily_visits</th>\n",
       "      <th>cum_daily_purchases</th>\n",
       "      <th>cum_daily_sum</th>\n",
       "      <th>cum_conversion</th>\n",
       "      <th>cum_mean_check</th>\n",
       "    </tr>\n",
       "  </thead>\n",
       "  <tbody>\n",
       "    <tr>\n",
       "      <th>0</th>\n",
       "      <td>2021-01-02</td>\n",
       "      <td>A</td>\n",
       "      <td>2854</td>\n",
       "      <td>359</td>\n",
       "      <td>29410000</td>\n",
       "      <td>12.578837</td>\n",
       "      <td>81922.0</td>\n",
       "      <td>2854</td>\n",
       "      <td>359</td>\n",
       "      <td>29410000</td>\n",
       "      <td>12.578837</td>\n",
       "      <td>81922.0</td>\n",
       "    </tr>\n",
       "    <tr>\n",
       "      <th>1</th>\n",
       "      <td>2021-01-02</td>\n",
       "      <td>B</td>\n",
       "      <td>2861</td>\n",
       "      <td>345</td>\n",
       "      <td>29660000</td>\n",
       "      <td>12.058721</td>\n",
       "      <td>85971.0</td>\n",
       "      <td>2861</td>\n",
       "      <td>345</td>\n",
       "      <td>29660000</td>\n",
       "      <td>12.058721</td>\n",
       "      <td>85971.0</td>\n",
       "    </tr>\n",
       "    <tr>\n",
       "      <th>2</th>\n",
       "      <td>2021-01-03</td>\n",
       "      <td>A</td>\n",
       "      <td>6596</td>\n",
       "      <td>748</td>\n",
       "      <td>62000000</td>\n",
       "      <td>11.340206</td>\n",
       "      <td>82888.0</td>\n",
       "      <td>9450</td>\n",
       "      <td>1107</td>\n",
       "      <td>91410000</td>\n",
       "      <td>11.714286</td>\n",
       "      <td>82575.0</td>\n",
       "    </tr>\n",
       "    <tr>\n",
       "      <th>3</th>\n",
       "      <td>2021-01-03</td>\n",
       "      <td>B</td>\n",
       "      <td>6619</td>\n",
       "      <td>754</td>\n",
       "      <td>65960000</td>\n",
       "      <td>11.391449</td>\n",
       "      <td>87480.0</td>\n",
       "      <td>9480</td>\n",
       "      <td>1099</td>\n",
       "      <td>95620000</td>\n",
       "      <td>11.592827</td>\n",
       "      <td>87006.0</td>\n",
       "    </tr>\n",
       "    <tr>\n",
       "      <th>4</th>\n",
       "      <td>2021-01-04</td>\n",
       "      <td>A</td>\n",
       "      <td>6566</td>\n",
       "      <td>799</td>\n",
       "      <td>64250000</td>\n",
       "      <td>12.168748</td>\n",
       "      <td>80413.0</td>\n",
       "      <td>16016</td>\n",
       "      <td>1906</td>\n",
       "      <td>155660000</td>\n",
       "      <td>11.900599</td>\n",
       "      <td>81668.0</td>\n",
       "    </tr>\n",
       "  </tbody>\n",
       "</table>\n",
       "</div>"
      ],
      "text/plain": [
       "        date group  daily_visits  daily_purchases  daily_sum  \\\n",
       "0 2021-01-02     A          2854              359   29410000   \n",
       "1 2021-01-02     B          2861              345   29660000   \n",
       "2 2021-01-03     A          6596              748   62000000   \n",
       "3 2021-01-03     B          6619              754   65960000   \n",
       "4 2021-01-04     A          6566              799   64250000   \n",
       "\n",
       "   daily_conversion  daily_mean_check  cum_daily_visits  cum_daily_purchases  \\\n",
       "0         12.578837           81922.0              2854                  359   \n",
       "1         12.058721           85971.0              2861                  345   \n",
       "2         11.340206           82888.0              9450                 1107   \n",
       "3         11.391449           87480.0              9480                 1099   \n",
       "4         12.168748           80413.0             16016                 1906   \n",
       "\n",
       "   cum_daily_sum  cum_conversion  cum_mean_check  \n",
       "0       29410000       12.578837         81922.0  \n",
       "1       29660000       12.058721         85971.0  \n",
       "2       91410000       11.714286         82575.0  \n",
       "3       95620000       11.592827         87006.0  \n",
       "4      155660000       11.900599         81668.0  "
      ]
     },
     "execution_count": 13,
     "metadata": {},
     "output_type": "execute_result"
    }
   ],
   "source": [
    "# вычисляем кумулятивные признаки с учетом деления на группы А и В\n",
    "daily_data['cum_daily_visits'] = daily_data.groupby(['group'])['daily_visits'].cumsum()\n",
    "daily_data['cum_daily_purchases'] = daily_data.groupby(['group'])['daily_purchases'].cumsum()\n",
    "daily_data['cum_daily_sum'] = daily_data.groupby(['group'])['daily_sum'].cumsum()\n",
    "\n",
    "daily_data['cum_conversion'] = daily_data['cum_daily_purchases']/daily_data['cum_daily_visits']*100\n",
    "daily_data['cum_mean_check'] = round(daily_data['cum_daily_sum']/daily_data['cum_daily_purchases'])\n",
    "\n",
    "mask_b = (daily_data['date'] == '2021-01-20') & (daily_data['group'] == 'B')\n",
    "print('Кумулятивная конверсия в группе B на 20 января 2021 года: ', round(daily_data[mask_b]['cum_conversion'].values[0], 2))\n",
    "mask_a = (daily_data['date'] == '2021-01-12') & (daily_data['group'] == 'A')\n",
    "print('Кумулятивный средний чек в группе А на 12 января 2021 года: ', int(daily_data[mask_a]['cum_mean_check'].values[0]))\n",
    "# вывод всей таблицы\n",
    "daily_data.head()"
   ]
  },
  {
   "attachments": {},
   "cell_type": "markdown",
   "id": "c252b8ba-371b-4795-8fc3-a62317e9ba39",
   "metadata": {},
   "source": [
    "Построим кумулятивные графики конверсии и среднего чека для каждой группы по дням. Сделаем выводы о том, можно ли назвать A/B-тест завершенным - стабилизировались ли значения метрик во времени. Выясним как соотносятся кумулятивные показатели каждой группы."
   ]
  },
  {
   "cell_type": "code",
   "execution_count": 14,
   "id": "27e23d20-7ed6-4a26-973d-6d0320b81adb",
   "metadata": {},
   "outputs": [
    {
     "data": {
      "image/png": "[encoded data removed]",
      "text/plain": [
       "<Figure size 1200x500 with 1 Axes>"
      ]
     },
     "metadata": {},
     "output_type": "display_data"
    }
   ],
   "source": [
    "fig = plt.figure(figsize=(12, 5))\n",
    "ax = fig.add_axes([1, 1, 1, 1])\n",
    "sns.lineplot(x='date', y='cum_conversion', data=daily_data[daily_data['group'] == 'A'], ax=ax, label='group A')\n",
    "sns.lineplot(x='date', y='cum_conversion', data=daily_data[daily_data['group'] == 'B'], ax=ax, label='group B')\n",
    "ax.set_title('Графики кумулятивной конверсии по дням')\n",
    "ax.xaxis.set_tick_params(rotation = 30)\n",
    "ax.grid(True);"
   ]
  },
  {
   "cell_type": "code",
   "execution_count": 15,
   "id": "9ed991f0",
   "metadata": {},
   "outputs": [
    {
     "data": {
      "image/png": "[encoded data removed]",
      "text/plain": [
       "<Figure size 1200x500 with 1 Axes>"
      ]
     },
     "metadata": {},
     "output_type": "display_data"
    }
   ],
   "source": [
    "fig = plt.figure(figsize=(12, 5))\n",
    "ax = fig.add_axes([1, 1, 1, 1])\n",
    "sns.lineplot(x='date', y='cum_mean_check', data=daily_data[daily_data['group'] == 'A'], ax=ax, label='group A')\n",
    "sns.lineplot(x='date', y='cum_mean_check', data=daily_data[daily_data['group'] == 'B'], ax=ax, label='group B')\n",
    "ax.set_title('Графики кумулятивного среднего чека по дням')\n",
    "ax.xaxis.set_tick_params(rotation = 30)\n",
    "ax.grid(True);"
   ]
  },
  {
   "attachments": {},
   "cell_type": "markdown",
   "id": "f645f8e5-ad16-4b3b-8228-fbdeeb286833",
   "metadata": {},
   "source": [
    "В отношении кумулятивной конверсии можно считать, что она стабилизировалась начиная с 15 января 2021 года. При этом конверсия группы А стабильно лучше конверсии группы В (однако разница всего 1-1.5 %).\n",
    "\n",
    "В отношении кумулятивного среднего чека  - стабилизация наблюдается практически с начала наблюдения. С 18 января 2021 года разница между группами В и А стабилизировалась. Средний чек группы В стабильно больше среднего чека группы А (примерно 8-9 %)."
   ]
  },
  {
   "attachments": {},
   "cell_type": "markdown",
   "id": "2ecaa382-56e2-47f4-b086-24b4742570a3",
   "metadata": {
    "tags": []
   },
   "source": [
    "## **Задание 7.10.**\n",
    "\n",
    "Проверим статистическую значимость разницы между метриками в группах. Начнем с конверсии.\n",
    "\n",
    "Выберем тест для проверки гипотезы о равенстве конверсий в группах.\n",
    "\n",
    "Проведем тестирование при следующих нулевой и альтернативной гипотезах:\n",
    "* $H0$: Конверсии в группах А и B равны.\n",
    "* $H1$: Конверсия в группе А больше чем конверсия в группе B.\n",
    "\n",
    "Вычислим p-value нашего теста для конверсий в группах А и B. Сравним полученные значения p-value с уровнем значимости 0.05. "
   ]
  },
  {
   "attachments": {},
   "cell_type": "markdown",
   "id": "534edbf1",
   "metadata": {},
   "source": [
    "Для проверки гипотезы о равенстве конверсий в группах будет применен Z-тест для пропорций."
   ]
  },
  {
   "cell_type": "code",
   "execution_count": 16,
   "id": "eb87e016",
   "metadata": {},
   "outputs": [
    {
     "data": {
      "text/html": [
       "<div>\n",
       "<style scoped>\n",
       "    .dataframe tbody tr th:only-of-type {\n",
       "        vertical-align: middle;\n",
       "    }\n",
       "\n",
       "    .dataframe tbody tr th {\n",
       "        vertical-align: top;\n",
       "    }\n",
       "\n",
       "    .dataframe thead th {\n",
       "        text-align: right;\n",
       "    }\n",
       "</style>\n",
       "<table border=\"1\" class=\"dataframe\">\n",
       "  <thead>\n",
       "    <tr style=\"text-align: right;\">\n",
       "      <th></th>\n",
       "      <th>group</th>\n",
       "      <th>count_visits</th>\n",
       "      <th>count_purchases</th>\n",
       "      <th>sum_price</th>\n",
       "      <th>conversion</th>\n",
       "      <th>mean_check</th>\n",
       "    </tr>\n",
       "  </thead>\n",
       "  <tbody>\n",
       "    <tr>\n",
       "      <th>0</th>\n",
       "      <td>A</td>\n",
       "      <td>145307</td>\n",
       "      <td>17487</td>\n",
       "      <td>1417780000</td>\n",
       "      <td>12.034520</td>\n",
       "      <td>81076.0</td>\n",
       "    </tr>\n",
       "    <tr>\n",
       "      <th>1</th>\n",
       "      <td>B</td>\n",
       "      <td>145381</td>\n",
       "      <td>17290</td>\n",
       "      <td>1533010000</td>\n",
       "      <td>11.892888</td>\n",
       "      <td>88665.0</td>\n",
       "    </tr>\n",
       "  </tbody>\n",
       "</table>\n",
       "</div>"
      ],
      "text/plain": [
       "  group  count_visits  count_purchases   sum_price  conversion  mean_check\n",
       "0     A        145307            17487  1417780000   12.034520     81076.0\n",
       "1     B        145381            17290  1533010000   11.892888     88665.0"
      ]
     },
     "execution_count": 16,
     "metadata": {},
     "output_type": "execute_result"
    }
   ],
   "source": [
    "# вывод используемой таблицы\n",
    "data_group"
   ]
  },
  {
   "cell_type": "code",
   "execution_count": 17,
   "id": "9dd1f6fd-2fa0-4a2f-8181-dbed4c302bce",
   "metadata": {},
   "outputs": [
    {
     "name": "stdout",
     "output_type": "stream",
     "text": [
      "p-value: 0.12\n",
      "Принимаем нулевую гипотезу H0: Конверсии в группах А и B равны.\n"
     ]
    }
   ],
   "source": [
    "# нулевая и альтернативная гипотезы\n",
    "H0 = 'Конверсии в группах А и B равны.'\n",
    "H1 = 'Конверсия в группе А больше, чем конверсия в группе B.'\n",
    "# уровень значимости\n",
    "alpha = 0.05\n",
    "\n",
    "# вычисляем значение p-value для z-теста для пропорций\n",
    "stat, p_value = proportions_ztest(\n",
    "    count=data_group['count_purchases'], # число покупок в группах\n",
    "    nobs=data_group['count_visits'], # общее число посещений в группах\n",
    "    alternative='larger' # согласно альтернативной гипотезе \n",
    ")\n",
    "\n",
    "# выводим результат на экран\n",
    "print('p-value: %.2f' % p_value)\n",
    "\n",
    "# сравниваем полученное p-value с уровнем значимости\n",
    "if (p_value < alpha): \n",
    "    print('Отвергаем нулевую гипотезу H0.')\n",
    "    print(f'Принимаем альтернативную гипотезу H1: {H1}')\n",
    "else:\n",
    "    print(f'Принимаем нулевую гипотезу H0: {H0}')"
   ]
  },
  {
   "attachments": {},
   "cell_type": "markdown",
   "id": "75dddb06-389d-4d65-92c7-425efa28e51a",
   "metadata": {},
   "source": [
    "Выводы по результатам проведенного теста:\n",
    "\n",
    "Так как z-тест для пропорций показал, что истинные значения конверсий в группах равны (с установленным уровнем значимости 0.05), то полученная разница в метриках конверсий в группах А и В статистически не значима (отсутствует статистическая разница). Т.е. конверсии в группах А и В равны."
   ]
  },
  {
   "attachments": {},
   "cell_type": "markdown",
   "id": "32c5a1af-8cb2-4f3c-a126-410b70fb3ff3",
   "metadata": {
    "tags": []
   },
   "source": [
    "## **Задание 7.11.**\n",
    "Убедимся в своих рассуждениях, построив 95 % доверительный интервал для конверсий и разницы между ними. Используем $z_{крит}$ в своих расчетах.\n",
    "\n",
    "Укажем нижнюю и верхнюю границы доверительных интервалов. Границы приведем в процентах и округлим до 2 знака после запятой. "
   ]
  },
  {
   "cell_type": "code",
   "execution_count": 18,
   "id": "b08574e1",
   "metadata": {},
   "outputs": [
    {
     "data": {
      "text/html": [
       "<div>\n",
       "<style scoped>\n",
       "    .dataframe tbody tr th:only-of-type {\n",
       "        vertical-align: middle;\n",
       "    }\n",
       "\n",
       "    .dataframe tbody tr th {\n",
       "        vertical-align: top;\n",
       "    }\n",
       "\n",
       "    .dataframe thead th {\n",
       "        text-align: right;\n",
       "    }\n",
       "</style>\n",
       "<table border=\"1\" class=\"dataframe\">\n",
       "  <thead>\n",
       "    <tr style=\"text-align: right;\">\n",
       "      <th></th>\n",
       "      <th>user_id</th>\n",
       "      <th>date</th>\n",
       "      <th>group</th>\n",
       "      <th>purchase</th>\n",
       "      <th>price</th>\n",
       "    </tr>\n",
       "  </thead>\n",
       "  <tbody>\n",
       "    <tr>\n",
       "      <th>0</th>\n",
       "      <td>851104</td>\n",
       "      <td>2021-01-21</td>\n",
       "      <td>A</td>\n",
       "      <td>0</td>\n",
       "      <td>0</td>\n",
       "    </tr>\n",
       "    <tr>\n",
       "      <th>1</th>\n",
       "      <td>804228</td>\n",
       "      <td>2021-01-12</td>\n",
       "      <td>A</td>\n",
       "      <td>0</td>\n",
       "      <td>0</td>\n",
       "    </tr>\n",
       "    <tr>\n",
       "      <th>2</th>\n",
       "      <td>661590</td>\n",
       "      <td>2021-01-11</td>\n",
       "      <td>B</td>\n",
       "      <td>0</td>\n",
       "      <td>0</td>\n",
       "    </tr>\n",
       "    <tr>\n",
       "      <th>3</th>\n",
       "      <td>853541</td>\n",
       "      <td>2021-01-08</td>\n",
       "      <td>B</td>\n",
       "      <td>0</td>\n",
       "      <td>0</td>\n",
       "    </tr>\n",
       "    <tr>\n",
       "      <th>4</th>\n",
       "      <td>864975</td>\n",
       "      <td>2021-01-21</td>\n",
       "      <td>A</td>\n",
       "      <td>1</td>\n",
       "      <td>150000</td>\n",
       "    </tr>\n",
       "  </tbody>\n",
       "</table>\n",
       "</div>"
      ],
      "text/plain": [
       "   user_id        date group  purchase   price\n",
       "0   851104  2021-01-21     A         0       0\n",
       "1   804228  2021-01-12     A         0       0\n",
       "2   661590  2021-01-11     B         0       0\n",
       "3   853541  2021-01-08     B         0       0\n",
       "4   864975  2021-01-21     A         1  150000"
      ]
     },
     "execution_count": 18,
     "metadata": {},
     "output_type": "execute_result"
    }
   ],
   "source": [
    "# используем оригинальную таблицу, но \n",
    "# исключим записи, которые входят \n",
    "# и в группу А и в группу B\n",
    "updated_data.head()"
   ]
  },
  {
   "attachments": {},
   "cell_type": "markdown",
   "id": "12af3447",
   "metadata": {},
   "source": [
    "Доверительные интервалы для конверсий групп А и В:"
   ]
  },
  {
   "cell_type": "code",
   "execution_count": 19,
   "id": "e9decb7d-ff5e-40a6-8b71-63627c4ef64a",
   "metadata": {},
   "outputs": [
    {
     "name": "stdout",
     "output_type": "stream",
     "text": [
      "Доверительный интервал для конверсии группы А: (11.87, 12.2)\n",
      "Доверительный интервал для конверсии группы B: (11.73, 12.06)\n"
     ]
    }
   ],
   "source": [
    "def proportions_conf_interval(n, x_p, gamma=0.95):\n",
    "    \"\"\"функция для вычисления доверительного интервала пропорции\n",
    "\n",
    "    Args:\n",
    "        n (int): размер выборки\n",
    "        x_p (float): выборочная пропорция\n",
    "        gamma (float, optional): уровень надежности\n",
    "\n",
    "    Returns:\n",
    "        кортеж из двух целых чисел - нижняя и верхняя \n",
    "        границы доверительного интервалапропорции, \n",
    "        округленные до целого\n",
    "    \"\"\"    \n",
    "    \n",
    "    \n",
    "    alpha = 1 - gamma # уровень значимости\n",
    "    z_crit = -norm.ppf(alpha/2) # z критическое\n",
    "    eps = z_crit * (x_p * (1 - x_p) / n) ** 0.5 # погрешность\n",
    "    lower_bound = x_p - eps # левая (нижняя) граница\n",
    "    upper_bound = x_p + eps # правая (верхняя) граница\n",
    "    return round(lower_bound * 100, 2), round(upper_bound * 100, 2)\n",
    "\n",
    "\n",
    "# строим доверительный интервал для конверсии группы А\n",
    "conf_interval_a = proportions_conf_interval(\n",
    "    n=updated_data[updated_data['group'] == 'A']['user_id'].count(), \n",
    "    x_p=updated_data[updated_data['group'] == 'A']['purchase'].mean() \n",
    ")\n",
    "# строим доверительный интервал для конверсии группы В\n",
    "conf_interval_b = proportions_conf_interval(\n",
    "    n=updated_data[updated_data['group'] == 'B']['user_id'].count(), \n",
    "    x_p=updated_data[updated_data['group'] == 'B']['purchase'].mean() \n",
    ")\n",
    "\n",
    "print(f'Доверительный интервал для конверсии группы А: {conf_interval_a}')\n",
    "print(f'Доверительный интервал для конверсии группы B: {conf_interval_b}')"
   ]
  },
  {
   "attachments": {},
   "cell_type": "markdown",
   "id": "94694db2",
   "metadata": {},
   "source": [
    "Доверительный интервал разницы между конверсиями групп А и В:"
   ]
  },
  {
   "cell_type": "code",
   "execution_count": 20,
   "id": "de2cfc25",
   "metadata": {},
   "outputs": [
    {
     "name": "stdout",
     "output_type": "stream",
     "text": [
      "Доверительный интервал для разности конверсий: (-0.38, 0.09)\n"
     ]
    }
   ],
   "source": [
    "def diff_proportions_conf_interval(n, xp, gamma=0.95):\n",
    "    \"\"\"функция для вычисления доверительного интервала разницы пропорций\n",
    "\n",
    "    Args:\n",
    "        n (list of int): список из размеров 2-х выборок \n",
    "        x_p (float): список их 2-х выборочных пропорций\n",
    "        gamma (float, optional): уровень надежности\n",
    "\n",
    "    Returns:\n",
    "        кортеж из двух целых чисел - нижняя и верхняя \n",
    "        границы доверительного интервала разницы пропорций, \n",
    "        округленные до целого\n",
    "    \"\"\"    \n",
    "    alpha = 1 - gamma # уровень значимости\n",
    "    diff = xp[1] - xp[0] # выборочная разница конверсий групп B и A\n",
    "    z_crit = -norm.ppf(alpha/2) # z критическое\n",
    "    eps = z_crit * (xp[0] * (1 - xp[0])/n[0] + xp[1] * (1 - xp[1])/n[1]) ** 0.5 # погрешность\n",
    "    lower_bound = diff - eps # левая (нижняя) граница\n",
    "    upper_bound = diff + eps # правая (верхняя) граница\n",
    "    return round(lower_bound *100, 2), round(upper_bound * 100, 2)\n",
    "\n",
    "\n",
    "# задаем размеры выборок групп А и B\n",
    "n = [updated_data[updated_data['group'] == 'A']['user_id'].count(), updated_data[updated_data['group'] == 'B']['user_id'].count()]\n",
    "# задаем выборочные пропорции групп A и B\n",
    "xp = [updated_data[updated_data['group'] == 'A']['purchase'].mean(), updated_data[updated_data['group'] == 'B']['purchase'].mean()]\n",
    "# строим доверительный интервал для разности конверсий\n",
    "diff_inverval = diff_proportions_conf_interval(n, xp)\n",
    "\n",
    "print(f'Доверительный интервал для разности конверсий: {diff_inverval}')"
   ]
  },
  {
   "attachments": {},
   "cell_type": "markdown",
   "id": "ed1c1fe4",
   "metadata": {},
   "source": [
    "Выводы по результатам проведенных тестов:\n",
    "\n",
    "Доверительный интервал для конверсии группы А: (11.87, 12.2), для группы B: (11.73, 12.06). Т.е. с надежностью 95 % можно утверждать, что конверсии групп А и В лежат в данных интервалах, соответственно.\n",
    "\n",
    "Данные интервалы пересекаются (отрезок пересечения: [11.87, 12.06]). Это значит, что существует вероятность, что истинное значение конверсии в обеих группах может совпасть (попасть в этот отрезок ). То есть мы не можем однозначно сказать, есть ли разница в конверсиях групп А и В.\n",
    "\n",
    "С другой стороны, доверительный интервал для разности конверсий: (-0.38, 0.09). То есть разница в конверсии с 95 %-ой надёжностью может быть как положительной, так и отрицательной. Мы имеем дело со случаем когда интервал охватывает точку 0. Отсюда можно сделать вывод, что статистической разницы в конверсии между вариантами А и B не существует, то есть они являются равнозначными по данной метрике."
   ]
  },
  {
   "attachments": {},
   "cell_type": "markdown",
   "id": "73c54883-b919-4889-bbf2-e1bdeb0b7055",
   "metadata": {},
   "source": [
    "## **Задание 7.12.**\n",
    "\n",
    "Будем использовать ранее построенную таблицу с ежедневными показателями.\n",
    "\n",
    "Проверим гипотезу о нормальности распределения ежедневного среднего чека в каждой из групп. Уровень значимости 0.05."
   ]
  },
  {
   "attachments": {},
   "cell_type": "markdown",
   "id": "c4a81d11",
   "metadata": {},
   "source": [
    "Для проверки гипотезы о нормальности распределения ежедневного среднего чека применим тест Шапиро_Уилка.\n",
    "\n",
    "Принимаемые гипотезы:\n",
    "* Нулевая гипотеза $H0$: распределения в обеих группах нормальные. \n",
    "* Альтернативная гипотеза $H1$: распределение в одной или обеих группах отлично от нормального."
   ]
  },
  {
   "cell_type": "code",
   "execution_count": 21,
   "id": "898041ae-de7e-4b74-975e-111d494fbb82",
   "metadata": {},
   "outputs": [
    {
     "data": {
      "text/html": [
       "<div>\n",
       "<style scoped>\n",
       "    .dataframe tbody tr th:only-of-type {\n",
       "        vertical-align: middle;\n",
       "    }\n",
       "\n",
       "    .dataframe tbody tr th {\n",
       "        vertical-align: top;\n",
       "    }\n",
       "\n",
       "    .dataframe thead th {\n",
       "        text-align: right;\n",
       "    }\n",
       "</style>\n",
       "<table border=\"1\" class=\"dataframe\">\n",
       "  <thead>\n",
       "    <tr style=\"text-align: right;\">\n",
       "      <th></th>\n",
       "      <th>date</th>\n",
       "      <th>group</th>\n",
       "      <th>daily_visits</th>\n",
       "      <th>daily_purchases</th>\n",
       "      <th>daily_sum</th>\n",
       "      <th>daily_conversion</th>\n",
       "      <th>daily_mean_check</th>\n",
       "      <th>cum_daily_visits</th>\n",
       "      <th>cum_daily_purchases</th>\n",
       "      <th>cum_daily_sum</th>\n",
       "      <th>cum_conversion</th>\n",
       "      <th>cum_mean_check</th>\n",
       "    </tr>\n",
       "  </thead>\n",
       "  <tbody>\n",
       "    <tr>\n",
       "      <th>0</th>\n",
       "      <td>2021-01-02</td>\n",
       "      <td>A</td>\n",
       "      <td>2854</td>\n",
       "      <td>359</td>\n",
       "      <td>29410000</td>\n",
       "      <td>12.578837</td>\n",
       "      <td>81922.0</td>\n",
       "      <td>2854</td>\n",
       "      <td>359</td>\n",
       "      <td>29410000</td>\n",
       "      <td>12.578837</td>\n",
       "      <td>81922.0</td>\n",
       "    </tr>\n",
       "    <tr>\n",
       "      <th>1</th>\n",
       "      <td>2021-01-02</td>\n",
       "      <td>B</td>\n",
       "      <td>2861</td>\n",
       "      <td>345</td>\n",
       "      <td>29660000</td>\n",
       "      <td>12.058721</td>\n",
       "      <td>85971.0</td>\n",
       "      <td>2861</td>\n",
       "      <td>345</td>\n",
       "      <td>29660000</td>\n",
       "      <td>12.058721</td>\n",
       "      <td>85971.0</td>\n",
       "    </tr>\n",
       "    <tr>\n",
       "      <th>2</th>\n",
       "      <td>2021-01-03</td>\n",
       "      <td>A</td>\n",
       "      <td>6596</td>\n",
       "      <td>748</td>\n",
       "      <td>62000000</td>\n",
       "      <td>11.340206</td>\n",
       "      <td>82888.0</td>\n",
       "      <td>9450</td>\n",
       "      <td>1107</td>\n",
       "      <td>91410000</td>\n",
       "      <td>11.714286</td>\n",
       "      <td>82575.0</td>\n",
       "    </tr>\n",
       "    <tr>\n",
       "      <th>3</th>\n",
       "      <td>2021-01-03</td>\n",
       "      <td>B</td>\n",
       "      <td>6619</td>\n",
       "      <td>754</td>\n",
       "      <td>65960000</td>\n",
       "      <td>11.391449</td>\n",
       "      <td>87480.0</td>\n",
       "      <td>9480</td>\n",
       "      <td>1099</td>\n",
       "      <td>95620000</td>\n",
       "      <td>11.592827</td>\n",
       "      <td>87006.0</td>\n",
       "    </tr>\n",
       "    <tr>\n",
       "      <th>4</th>\n",
       "      <td>2021-01-04</td>\n",
       "      <td>A</td>\n",
       "      <td>6566</td>\n",
       "      <td>799</td>\n",
       "      <td>64250000</td>\n",
       "      <td>12.168748</td>\n",
       "      <td>80413.0</td>\n",
       "      <td>16016</td>\n",
       "      <td>1906</td>\n",
       "      <td>155660000</td>\n",
       "      <td>11.900599</td>\n",
       "      <td>81668.0</td>\n",
       "    </tr>\n",
       "  </tbody>\n",
       "</table>\n",
       "</div>"
      ],
      "text/plain": [
       "        date group  daily_visits  daily_purchases  daily_sum  \\\n",
       "0 2021-01-02     A          2854              359   29410000   \n",
       "1 2021-01-02     B          2861              345   29660000   \n",
       "2 2021-01-03     A          6596              748   62000000   \n",
       "3 2021-01-03     B          6619              754   65960000   \n",
       "4 2021-01-04     A          6566              799   64250000   \n",
       "\n",
       "   daily_conversion  daily_mean_check  cum_daily_visits  cum_daily_purchases  \\\n",
       "0         12.578837           81922.0              2854                  359   \n",
       "1         12.058721           85971.0              2861                  345   \n",
       "2         11.340206           82888.0              9450                 1107   \n",
       "3         11.391449           87480.0              9480                 1099   \n",
       "4         12.168748           80413.0             16016                 1906   \n",
       "\n",
       "   cum_daily_sum  cum_conversion  cum_mean_check  \n",
       "0       29410000       12.578837         81922.0  \n",
       "1       29660000       12.058721         85971.0  \n",
       "2       91410000       11.714286         82575.0  \n",
       "3       95620000       11.592827         87006.0  \n",
       "4      155660000       11.900599         81668.0  "
      ]
     },
     "execution_count": 21,
     "metadata": {},
     "output_type": "execute_result"
    }
   ],
   "source": [
    "# используемая таблица\n",
    "daily_data.head()"
   ]
  },
  {
   "cell_type": "code",
   "execution_count": 22,
   "id": "2a3bfd42",
   "metadata": {},
   "outputs": [
    {
     "name": "stdout",
     "output_type": "stream",
     "text": [
      "p-value группы А:  0.25\n",
      "p-value группы B:  0.09\n",
      "Принимаем нулевую гипотезу H0: Распределения в обеих группах нормальные.\n"
     ]
    }
   ],
   "source": [
    "# нулевая и альтернативная гипотезы\n",
    "H0 = 'Распределения в обеих группах нормальные.'\n",
    "H1 = 'Распределение в одной или обеих группах отлично от нормального.'\n",
    "# уровень значимости\n",
    "alpha = 0.05 \n",
    "\n",
    "# тест Шапиро-Уилка для выборок, отдельно по группам А и В\n",
    "shapiro_result_a = shapiro(daily_data[daily_data['group'] == 'A']['daily_mean_check'])\n",
    "shapiro_result_b = shapiro(daily_data[daily_data['group'] == 'B']['daily_mean_check'])\n",
    "print('p-value группы А: ', round(shapiro_result_a.pvalue, 2))\n",
    "print('p-value группы B: ', round(shapiro_result_b.pvalue, 2))\n",
    "\n",
    "# сравниваем полученное p-value с уровнем значимости\n",
    "if shapiro_result_a.pvalue < alpha or shapiro_result_b.pvalue < alpha:\n",
    "    print('Отвергаем нулевую гипотезу H0.')\n",
    "    print(f'Принимаем альтернативную гипотезу H1: {H1}')\n",
    "else:\n",
    "    print(f'Принимаем нулевую гипотезу H0: {H0}')"
   ]
  },
  {
   "attachments": {},
   "cell_type": "markdown",
   "id": "1f6e1306",
   "metadata": {},
   "source": [
    "\n",
    "Результаты статистического теста с уровнем значимости a = 0.05. Принимаем нулевую гипотезу: распределения в обеих группах нормальные."
   ]
  },
  {
   "attachments": {},
   "cell_type": "markdown",
   "id": "cbddecf9-4d15-4ff1-84e9-46c4d98fc1e0",
   "metadata": {
    "tags": []
   },
   "source": [
    "## **Задание 7.13.**\n",
    "Сравним варианты дизайна страницы по метрике среднего чека. \n",
    "\n",
    "Выберем тест для проверки гипотезы о равенстве средних чеков по дням в группах.\n",
    "\n",
    "Проведем тестирование при следующих нулевой и альтернативной гипотезах:\n",
    "* Нулевая гипотеза $H0$: Ежедневные средние чеки в группах А и B равны. \n",
    "* Альтернативная гипотеза $H1$: Ежедневный средний чек в группе А меньше чем в группе B.\n",
    "\n",
    "Вычислим p-value теста для ежедневного среднего чека в группах А и B. Сравним полученное значение p-value с уровнем значимости 0.05. "
   ]
  },
  {
   "attachments": {},
   "cell_type": "markdown",
   "id": "c3c0746c",
   "metadata": {},
   "source": [
    "Для проверки гипотезы о равенстве средних чеков по дням в группах А и В применим Т-тест (по причине нормального распределения ежедневного среднего чека в обеих группах)."
   ]
  },
  {
   "cell_type": "code",
   "execution_count": 23,
   "id": "05d43f23-2c2d-4795-bb96-1ffbfe81c391",
   "metadata": {},
   "outputs": [
    {
     "name": "stdout",
     "output_type": "stream",
     "text": [
      "p-value:  0.0\n",
      "Отвергаем нулевую гипотезу H0.\n",
      "Принимаем альтернативную гипотезу H1: Ежедневный средний чек в группе А меньше, чем в группе B.\n"
     ]
    }
   ],
   "source": [
    "# нулевая и альтернативная гипотезы\n",
    "H0 = 'Ежедневные средние чеки в группах А и B равны.'\n",
    "H1 = 'Ежедневный средний чек в группе А меньше, чем в группе B.'\n",
    "# уровень значимости\n",
    "alpha = 0.05\n",
    "\n",
    "# T-тест для выборок, \n",
    "# предполагая не равенство дисперсий генеральной совокупности\n",
    "results = ttest_ind(\n",
    "    a=daily_data[daily_data['group'] == 'A']['daily_mean_check'],\n",
    "    b=daily_data[daily_data['group'] == 'B']['daily_mean_check'], \n",
    "    alternative='less',\n",
    "    equal_var=False\n",
    ")\n",
    "\n",
    "print('p-value: ', round(results.pvalue, 2))\n",
    "\n",
    "if results.pvalue < alpha:\n",
    "    print('Отвергаем нулевую гипотезу H0.')\n",
    "    print(f'Принимаем альтернативную гипотезу H1: {H1}')\n",
    "else:\n",
    "    print(f'Принимаем нулевую гипотезу H0: {H0}')"
   ]
  },
  {
   "attachments": {},
   "cell_type": "markdown",
   "id": "3475535c",
   "metadata": {},
   "source": [
    "Выводы по проведенному тесту:\n",
    "\n",
    "Есть статистическая разница между ежедневными средними чеками в группах А и B. А именно: с вероятностью 99.5 % ежедневный средний чек в группе А меньше, чем в группе B."
   ]
  },
  {
   "attachments": {},
   "cell_type": "markdown",
   "id": "5e46c9a6-a943-48b4-ad72-935337469613",
   "metadata": {
    "tags": []
   },
   "source": [
    "## **Задание 7.14.**\n",
    "\n",
    "Построим 95 % доверительный интервал для среднего чека в каждой группе. Так как выборка средних чеков небольшая, используем  $t_{крит}$ в расчетах.\n",
    "\n",
    "Определим нижнюю и верхнюю границы доверительного интервала для истинного среднего чека каждой из групп. Ответ округлим до целого. "
   ]
  },
  {
   "cell_type": "code",
   "execution_count": 24,
   "id": "4ccfb0c9",
   "metadata": {},
   "outputs": [
    {
     "name": "stdout",
     "output_type": "stream",
     "text": [
      "Доверительный интервал группы А:  (79630, 82308)\n"
     ]
    }
   ],
   "source": [
    "# доверительный интервал для группы А\n",
    "\n",
    "# средние чеки для группы А\n",
    "daily_mean_check_a = daily_data[daily_data['group'] == 'A']['daily_mean_check']\n",
    "\n",
    "n = daily_mean_check_a.count() # размер выборки\n",
    "k = n - 1 # число степеней свободы\n",
    "x_mean = daily_mean_check_a.mean() # выборочное среднее\n",
    "x_std = daily_mean_check_a.std() # выборочное стандартное отклонение\n",
    "gamma = 0.95 # уровень надёжности\n",
    "alpha = 1 - gamma # уровень значимости\n",
    "t_crit = -t.ppf(alpha/2, k) # t-критическое\n",
    "eps = t_crit * x_std/(n ** 0.5) # погрешность\n",
    "lower_bound = x_mean - eps # левая (нижняя) граница\n",
    "upper_bound = x_mean + eps # правая (верхняя) граница\n",
    "confidence_interval_a = (round(lower_bound), round(upper_bound)) # создаём кортеж из округлённых границ интервала\n",
    "print('Доверительный интервал группы А: ', confidence_interval_a) # выводим результат"
   ]
  },
  {
   "cell_type": "code",
   "execution_count": 25,
   "id": "5804e62e",
   "metadata": {},
   "outputs": [
    {
     "name": "stdout",
     "output_type": "stream",
     "text": [
      "Доверительный интервал группы В:  (87626, 89526)\n"
     ]
    }
   ],
   "source": [
    "# доверительный интервал для группы В\n",
    "\n",
    "# средние чеки для группы В\n",
    "\n",
    "daily_mean_check_b = daily_data[daily_data['group'] == 'B']['daily_mean_check']\n",
    "\n",
    "n = daily_mean_check_b.count() # размер выборки\n",
    "k = n - 1 # число степеней свободы\n",
    "x_mean = daily_mean_check_b.mean() # выборочное среднее\n",
    "x_std = daily_mean_check_b.std() # выборочное стандартное отклонение\n",
    "gamma = 0.95 # уровень надёжности\n",
    "alpha = 1 - gamma # уровень значимости\n",
    "t_crit = -t.ppf(alpha/2, k) # t-критическое\n",
    "eps = t_crit * x_std/(n ** 0.5) # погрешность\n",
    "lower_bound = x_mean - eps # левая (нижняя) граница\n",
    "upper_bound = x_mean + eps # правая (верхняя) граница\n",
    "confidence_interval_b = (round(lower_bound), round(upper_bound)) # создаём кортеж из округлённых границ интервала\n",
    "print('Доверительный интервал группы В: ', confidence_interval_b) # выводим результат"
   ]
  },
  {
   "attachments": {},
   "cell_type": "markdown",
   "id": "1a9fd127",
   "metadata": {},
   "source": [
    "Выводы по проведенному тесту:\n",
    "\n",
    "Данные интервалы не пересекаются. Доверительный интервал для ежедневного среднего чека группы А лежит левее аналогичного для группы В. Это значит, что с вероятностью 95 % ежедневный средний чек в группе А меньше, чем в группе B."
   ]
  },
  {
   "attachments": {},
   "cell_type": "markdown",
   "id": "c078852f-892f-42ed-8d78-73edf8eb1f5e",
   "metadata": {
    "tags": []
   },
   "source": [
    "## **Общий вывод по результатам A/B-теста**"
   ]
  },
  {
   "attachments": {},
   "cell_type": "markdown",
   "id": "9f27951a",
   "metadata": {},
   "source": [
    "В комплексе по метрикам конверсии и среднего чека второй вариант дизайна посадочной страницы (используемый для группы В) является более эффективным.\n",
    "\n",
    "Обоснование:\n",
    "- А/В тест можно считать завершенным, метрики конверсии и среднего чека стабилизировались.\n",
    "- полученная разница в метрике конверсии в группах А и В статистически не значима, т.е. конверсии в группах равны.\n",
    "- статистическая разница между ежедневными средними чеками в группах А и B присутствует, а именно: ежедневный средний чек в группе А меньше, чем в группе B.\n",
    "\n",
    "Соответственно, по метрике конверсии варианты дизайна посадочной страницы равны. Однако по метрике среднего чека вариант дизайна посадочной страницы (используемый для группы В) является более эффективным (от 6 до 11 %, с вероятностью 95 %)."
   ]
  }
 ],
 "metadata": {
  "kernelspec": {
   "display_name": "Python 3",
   "language": "python",
   "name": "python3"
  },
  "language_info": {
   "codemirror_mode": {
    "name": "ipython",
    "version": 3
   },
   "file_extension": ".py",
   "mimetype": "text/x-python",
   "name": "python",
   "nbconvert_exporter": "python",
   "pygments_lexer": "ipython3",
   "version": "3.10.8"
  },
  "vscode": {
   "interpreter": {
    "hash": "7b3bf1292704a30555a15f3887231bce5fbd94c8c0b0429fdc25a7df4bafb998"
   }
  }
 },
 "nbformat": 4,
 "nbformat_minor": 5
}
