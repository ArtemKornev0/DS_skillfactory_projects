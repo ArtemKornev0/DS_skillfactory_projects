{
 "cells": [
  {
   "cell_type": "code",
   "execution_count": 1,
   "metadata": {},
   "outputs": [],
   "source": [
    "# импорт библиотек\n",
    "import numpy as np # для матричных вычислений\n",
    "import pandas as pd # для анализа и предобработки данных\n",
    "\n",
    "from sklearn import linear_model # линейные моделиё\n",
    "from sklearn import ensemble # ансамбли\n",
    "from sklearn import metrics # метрики\n",
    "from sklearn.model_selection import train_test_split # сплитование выборки\n",
    "from sklearn.model_selection import cross_val_score, StratifiedKFold # кросс-валидация\n",
    "\n",
    "from sklearn.model_selection import GridSearchCV # подбор гиперпараметров с помощью GridSearchCV\n",
    "from sklearn.model_selection import RandomizedSearchCV # подбор гиперпараметров с помощью RandomizedSearchCV\n",
    "from hyperopt import hp, fmin, tpe, Trials # подбор гиперпараметров с помощью Hyperopt\n",
    "import optuna # подбор гиперпараметров с помощью Optuna"
   ]
  },
  {
   "cell_type": "code",
   "execution_count": 2,
   "metadata": {},
   "outputs": [
    {
     "data": {
      "text/html": [
       "<div>\n",
       "<style scoped>\n",
       "    .dataframe tbody tr th:only-of-type {\n",
       "        vertical-align: middle;\n",
       "    }\n",
       "\n",
       "    .dataframe tbody tr th {\n",
       "        vertical-align: top;\n",
       "    }\n",
       "\n",
       "    .dataframe thead th {\n",
       "        text-align: right;\n",
       "    }\n",
       "</style>\n",
       "<table border=\"1\" class=\"dataframe\">\n",
       "  <thead>\n",
       "    <tr style=\"text-align: right;\">\n",
       "      <th></th>\n",
       "      <th>Activity</th>\n",
       "      <th>D1</th>\n",
       "      <th>D2</th>\n",
       "      <th>D3</th>\n",
       "      <th>D4</th>\n",
       "      <th>D5</th>\n",
       "      <th>D6</th>\n",
       "      <th>D7</th>\n",
       "      <th>D8</th>\n",
       "      <th>D9</th>\n",
       "      <th>...</th>\n",
       "      <th>D1767</th>\n",
       "      <th>D1768</th>\n",
       "      <th>D1769</th>\n",
       "      <th>D1770</th>\n",
       "      <th>D1771</th>\n",
       "      <th>D1772</th>\n",
       "      <th>D1773</th>\n",
       "      <th>D1774</th>\n",
       "      <th>D1775</th>\n",
       "      <th>D1776</th>\n",
       "    </tr>\n",
       "  </thead>\n",
       "  <tbody>\n",
       "    <tr>\n",
       "      <th>0</th>\n",
       "      <td>1</td>\n",
       "      <td>0.000000</td>\n",
       "      <td>0.497009</td>\n",
       "      <td>0.10</td>\n",
       "      <td>0.0</td>\n",
       "      <td>0.132956</td>\n",
       "      <td>0.678031</td>\n",
       "      <td>0.273166</td>\n",
       "      <td>0.585445</td>\n",
       "      <td>0.743663</td>\n",
       "      <td>...</td>\n",
       "      <td>0</td>\n",
       "      <td>0</td>\n",
       "      <td>0</td>\n",
       "      <td>0</td>\n",
       "      <td>0</td>\n",
       "      <td>0</td>\n",
       "      <td>0</td>\n",
       "      <td>0</td>\n",
       "      <td>0</td>\n",
       "      <td>0</td>\n",
       "    </tr>\n",
       "    <tr>\n",
       "      <th>1</th>\n",
       "      <td>1</td>\n",
       "      <td>0.366667</td>\n",
       "      <td>0.606291</td>\n",
       "      <td>0.05</td>\n",
       "      <td>0.0</td>\n",
       "      <td>0.111209</td>\n",
       "      <td>0.803455</td>\n",
       "      <td>0.106105</td>\n",
       "      <td>0.411754</td>\n",
       "      <td>0.836582</td>\n",
       "      <td>...</td>\n",
       "      <td>1</td>\n",
       "      <td>1</td>\n",
       "      <td>1</td>\n",
       "      <td>1</td>\n",
       "      <td>0</td>\n",
       "      <td>1</td>\n",
       "      <td>0</td>\n",
       "      <td>0</td>\n",
       "      <td>1</td>\n",
       "      <td>0</td>\n",
       "    </tr>\n",
       "    <tr>\n",
       "      <th>2</th>\n",
       "      <td>1</td>\n",
       "      <td>0.033300</td>\n",
       "      <td>0.480124</td>\n",
       "      <td>0.00</td>\n",
       "      <td>0.0</td>\n",
       "      <td>0.209791</td>\n",
       "      <td>0.610350</td>\n",
       "      <td>0.356453</td>\n",
       "      <td>0.517720</td>\n",
       "      <td>0.679051</td>\n",
       "      <td>...</td>\n",
       "      <td>0</td>\n",
       "      <td>0</td>\n",
       "      <td>0</td>\n",
       "      <td>0</td>\n",
       "      <td>0</td>\n",
       "      <td>0</td>\n",
       "      <td>0</td>\n",
       "      <td>0</td>\n",
       "      <td>0</td>\n",
       "      <td>0</td>\n",
       "    </tr>\n",
       "    <tr>\n",
       "      <th>3</th>\n",
       "      <td>1</td>\n",
       "      <td>0.000000</td>\n",
       "      <td>0.538825</td>\n",
       "      <td>0.00</td>\n",
       "      <td>0.5</td>\n",
       "      <td>0.196344</td>\n",
       "      <td>0.724230</td>\n",
       "      <td>0.235606</td>\n",
       "      <td>0.288764</td>\n",
       "      <td>0.805110</td>\n",
       "      <td>...</td>\n",
       "      <td>0</td>\n",
       "      <td>0</td>\n",
       "      <td>0</td>\n",
       "      <td>0</td>\n",
       "      <td>0</td>\n",
       "      <td>0</td>\n",
       "      <td>0</td>\n",
       "      <td>0</td>\n",
       "      <td>0</td>\n",
       "      <td>0</td>\n",
       "    </tr>\n",
       "    <tr>\n",
       "      <th>4</th>\n",
       "      <td>0</td>\n",
       "      <td>0.100000</td>\n",
       "      <td>0.517794</td>\n",
       "      <td>0.00</td>\n",
       "      <td>0.0</td>\n",
       "      <td>0.494734</td>\n",
       "      <td>0.781422</td>\n",
       "      <td>0.154361</td>\n",
       "      <td>0.303809</td>\n",
       "      <td>0.812646</td>\n",
       "      <td>...</td>\n",
       "      <td>0</td>\n",
       "      <td>0</td>\n",
       "      <td>0</td>\n",
       "      <td>0</td>\n",
       "      <td>0</td>\n",
       "      <td>0</td>\n",
       "      <td>0</td>\n",
       "      <td>0</td>\n",
       "      <td>0</td>\n",
       "      <td>0</td>\n",
       "    </tr>\n",
       "  </tbody>\n",
       "</table>\n",
       "<p>5 rows × 1777 columns</p>\n",
       "</div>"
      ],
      "text/plain": [
       "   Activity        D1        D2    D3   D4        D5        D6        D7  \\\n",
       "0         1  0.000000  0.497009  0.10  0.0  0.132956  0.678031  0.273166   \n",
       "1         1  0.366667  0.606291  0.05  0.0  0.111209  0.803455  0.106105   \n",
       "2         1  0.033300  0.480124  0.00  0.0  0.209791  0.610350  0.356453   \n",
       "3         1  0.000000  0.538825  0.00  0.5  0.196344  0.724230  0.235606   \n",
       "4         0  0.100000  0.517794  0.00  0.0  0.494734  0.781422  0.154361   \n",
       "\n",
       "         D8        D9  ...  D1767  D1768  D1769  D1770  D1771  D1772  D1773  \\\n",
       "0  0.585445  0.743663  ...      0      0      0      0      0      0      0   \n",
       "1  0.411754  0.836582  ...      1      1      1      1      0      1      0   \n",
       "2  0.517720  0.679051  ...      0      0      0      0      0      0      0   \n",
       "3  0.288764  0.805110  ...      0      0      0      0      0      0      0   \n",
       "4  0.303809  0.812646  ...      0      0      0      0      0      0      0   \n",
       "\n",
       "   D1774  D1775  D1776  \n",
       "0      0      0      0  \n",
       "1      0      1      0  \n",
       "2      0      0      0  \n",
       "3      0      0      0  \n",
       "4      0      0      0  \n",
       "\n",
       "[5 rows x 1777 columns]"
      ]
     },
     "execution_count": 2,
     "metadata": {},
     "output_type": "execute_result"
    }
   ],
   "source": [
    "# загружаем данные\n",
    "data = pd.read_csv('data/train_sem.csv')\n",
    "data.head()"
   ]
  },
  {
   "cell_type": "code",
   "execution_count": 3,
   "metadata": {},
   "outputs": [],
   "source": [
    "# создаем матрицу наблюдений X и вектор ответов y\n",
    "X = data.drop(['Activity'], axis=1)\n",
    "y = data['Activity']"
   ]
  },
  {
   "cell_type": "code",
   "execution_count": 4,
   "metadata": {},
   "outputs": [],
   "source": [
    "# разделяем выборку на тренировочную и тестовую в соотношении 80/20 (4 признака /1 признак )\n",
    "# для сохранения соотношений целевого признака используем параметр stratify (стратифицированное разбиение). \n",
    "X_train, X_test, y_train, y_test = train_test_split(X, y, stratify=y, random_state = 42, test_size = 0.2)"
   ]
  },
  {
   "cell_type": "markdown",
   "metadata": {},
   "source": [
    "### <center> **Модель логистическая регрессия** "
   ]
  },
  {
   "cell_type": "code",
   "execution_count": 5,
   "metadata": {},
   "outputs": [
    {
     "name": "stdout",
     "output_type": "stream",
     "text": [
      "accuracy на тестовом наборе: 0.75\n",
      "f1_score на тестовом наборе: 0.78\n"
     ]
    }
   ],
   "source": [
    "# создаем объект класса логистическая регрессия\n",
    "log_reg = linear_model.LogisticRegression(\n",
    "    random_state=42,\n",
    "    max_iter = 1000\n",
    "    )\n",
    "\n",
    "# обучаем модель, минимизируя logloss\n",
    "log_reg.fit(X_train, y_train)\n",
    "\n",
    "# выведем значение метрики\n",
    "print(\"accuracy на тестовом наборе: {:.2f}\".format(log_reg.score(X_test, y_test)))\n",
    "y_test_pred = log_reg.predict(X_test)\n",
    "print('f1_score на тестовом наборе: {:.2f}'.format(metrics.f1_score(y_test, y_test_pred)))"
   ]
  },
  {
   "cell_type": "markdown",
   "metadata": {},
   "source": [
    "### <center> **Подбор гиперпараметров с помощью GridSearchCV**"
   ]
  },
  {
   "cell_type": "code",
   "execution_count": 6,
   "metadata": {},
   "outputs": [
    {
     "name": "stdout",
     "output_type": "stream",
     "text": [
      "CPU times: total: 40.3 s\n",
      "Wall time: 6min 28s\n",
      "accuracy на тестовом наборе: 0.75\n",
      "f1_score на тестовом наборе: 0.78\n",
      "Наилучшие значения гиперпараметров: {'C': 0.2, 'penalty': 'l1', 'solver': 'saga'}\n"
     ]
    }
   ],
   "source": [
    "# зададим словарь значений гиперпараметров (сетку)\n",
    "param_grid = [\n",
    "              {'penalty': ['l2', 'none'] , # тип регуляризации\n",
    "               'solver': ['lbfgs', 'sag'], # алгоритм оптимизации\n",
    "               'C': [0.1, 0.2, 0.3, 0.5, 1]}, # уровень силы регурялизации\n",
    "              \n",
    "              {'penalty': ['l1', 'l2'] ,\n",
    "               'solver': ['liblinear', 'saga'],\n",
    "               'C': [0.1, 0.2, 0.3, 0.5, 1]}\n",
    "]\n",
    "\n",
    "# создадим объект GridSearchCV, передав в него модель -\n",
    "# логистическую регрессию, список словарей значений гиперпараметров,\n",
    "# задав 5 фолдов в кросс-валидации и использование всех ядер процессора\n",
    "grid_search = GridSearchCV(\n",
    "    estimator=linear_model.LogisticRegression(\n",
    "        random_state = 42, # генератор случайных чисел\n",
    "        max_iter = 1000 # количество итераций на сходимость\n",
    "    ), \n",
    "    param_grid = param_grid, \n",
    "    cv = 5, \n",
    "    n_jobs = -1\n",
    ")  \n",
    "\n",
    "# оптимизируем гиперпараметры при заданных условиях\n",
    "%time grid_search.fit(X_train, y_train) \n",
    "\n",
    "# выведем результаты оптимизации\n",
    "print(\"accuracy на тестовом наборе: {:.2f}\".format(grid_search.score(X_test, y_test)))\n",
    "y_test_pred = grid_search.predict(X_test)\n",
    "print('f1_score на тестовом наборе: {:.2f}'.format(metrics.f1_score(y_test, y_test_pred)))\n",
    "\n",
    "print(\"Наилучшие значения гиперпараметров: {}\".format(grid_search.best_params_))"
   ]
  },
  {
   "cell_type": "markdown",
   "metadata": {},
   "source": [
    "### <center> **Подбор гиперпараметров с помощью RandomizedSearchCV**"
   ]
  },
  {
   "cell_type": "code",
   "execution_count": 7,
   "metadata": {},
   "outputs": [
    {
     "name": "stdout",
     "output_type": "stream",
     "text": [
      "CPU times: total: 44.3 s\n",
      "Wall time: 2min 52s\n",
      "accuracy на тестовом наборе: 0.75\n",
      "f1_score на тестовом наборе: 0.78\n",
      "Наилучшие значения гиперпараметров: {'solver': 'saga', 'penalty': 'l1', 'C': 0.5}\n"
     ]
    },
    {
     "name": "stderr",
     "output_type": "stream",
     "text": [
      "C:\\Users\\artem\\AppData\\Local\\Programs\\Python\\Python310\\lib\\site-packages\\sklearn\\linear_model\\_sag.py:350: ConvergenceWarning: The max_iter was reached which means the coef_ did not converge\n",
      "  warnings.warn(\n"
     ]
    }
   ],
   "source": [
    "# зададим словарь значений гиперпараметров (множество вариантов выбора)\n",
    "param_distributions = [\n",
    "                       {'penalty': ['l2', 'none'] , # тип регуляризации\n",
    "                        'solver': ['lbfgs', 'sag'], # алгоритм оптимизации\n",
    "                        'C': [0.1, 0.2, 0.3, 0.5, 1]}, # уровень силы регурялизации\n",
    "              \n",
    "                       {'penalty': ['l1', 'l2'] ,\n",
    "                        'solver': ['liblinear', 'saga'],\n",
    "                        'C': [0.1, 0.2, 0.3, 0.5, 1]}\n",
    "]\n",
    "\n",
    "# создадим объект RandomizedSearchCV, передав в него модель -\n",
    "# логистическую регрессию, список словарей значений гиперпараметров,\n",
    "# задав 5 фолдов в кросс-валидации, количество итераций 10 и использование всех ядер процессора            \n",
    "random_search = RandomizedSearchCV(\n",
    "    estimator = linear_model.LogisticRegression(\n",
    "        random_state = 42, # генератор случайных чисел\n",
    "        max_iter = 1000 # количество итераций на сходимость    \n",
    "    ),  \n",
    "    param_distributions = param_distributions, \n",
    "    cv = 5, \n",
    "    n_iter = 10, \n",
    "    n_jobs = -1\n",
    ")  \n",
    "\n",
    "# оптимизируем гиперпараметры при заданных условиях\n",
    "%time random_search.fit(X_train, y_train) \n",
    "\n",
    "# выведем результаты оптимизации\n",
    "print(\"accuracy на тестовом наборе: {:.2f}\".format(random_search.score(X_test, y_test)))\n",
    "y_test_pred = random_search.predict(X_test)\n",
    "print('f1_score на тестовом наборе: {:.2f}'.format(metrics.f1_score(y_test, y_test_pred)))\n",
    "\n",
    "print(\"Наилучшие значения гиперпараметров: {}\".format(random_search.best_params_))"
   ]
  },
  {
   "cell_type": "markdown",
   "metadata": {},
   "source": [
    "### <center> **Модель случайный лес** "
   ]
  },
  {
   "cell_type": "code",
   "execution_count": 8,
   "metadata": {},
   "outputs": [
    {
     "name": "stdout",
     "output_type": "stream",
     "text": [
      "accuracy на тестовом наборе: 0.79\n",
      "f1_score на тестовом наборе: 0.80\n"
     ]
    }
   ],
   "source": [
    "# создаем объект класса дерево решений\n",
    "rf = ensemble.RandomForestClassifier(random_state=42)\n",
    "\n",
    "# обучаем дерево по алгоритму CARTrint\n",
    "rf.fit(X_train, y_train)\n",
    "\n",
    "# выводим значение метрики \n",
    "print(\"accuracy на тестовом наборе: {:.2f}\".format(rf.score(X_test, y_test)))\n",
    "y_test_pred = rf.predict(X_test)\n",
    "print('f1_score на тестовом наборе: {:.2f}'.format(metrics.f1_score(y_test, y_test_pred)))"
   ]
  },
  {
   "cell_type": "markdown",
   "metadata": {},
   "source": [
    "### <center> **Подбор гиперпараметров с помощью Hyperopt**"
   ]
  },
  {
   "cell_type": "code",
   "execution_count": 18,
   "metadata": {},
   "outputs": [],
   "source": [
    "# зададим пространство поиска гиперпараметров\n",
    "space = {'n_estimators': hp.quniform('n_estimators', 50, 200, 1), # количество деревьев\n",
    "         'max_depth' : hp.quniform('max_depth', 10, 20, 1), # максимальная глубина дерева\n",
    "         'min_samples_leaf': hp.quniform('min_samples_leaf', 2, 15, 1) # минимальное число объектов в листе\n",
    "        }"
   ]
  },
  {
   "cell_type": "code",
   "execution_count": 19,
   "metadata": {},
   "outputs": [],
   "source": [
    "def hyperopt_rf(params, cv=5, X=X_train, y=y_train, random_state=42):\n",
    "    # функция получает комбинацию гиперпараметров в \"params\"\n",
    "    params = {'n_estimators': int(params['n_estimators']), \n",
    "              'max_depth': int(params['max_depth']), \n",
    "             'min_samples_leaf': int(params['min_samples_leaf'])\n",
    "              }\n",
    "  \n",
    "    # используем эту комбинацию для построения модели\n",
    "    model = ensemble.RandomForestClassifier(**params, random_state=random_state)\n",
    "\n",
    "    # обучаем модель\n",
    "    model.fit(X, y)\n",
    "    \n",
    "    # применим кросс-валидацию с переданным в функцию \n",
    "    # количеством фолдов и возьмем среднее значение результатов\n",
    "    # вычисления метрики f1\n",
    "    \n",
    "    # задаём параметры кросс-валидации (стратифицированная с перемешиванием)\n",
    "    skf = StratifiedKFold(n_splits=cv, \n",
    "                          shuffle=True, \n",
    "                          random_state=1\n",
    "                         )\n",
    "    # проводим кросс-валидацию \n",
    "    score = cross_val_score(model, X, y, cv=skf, scoring=\"f1\", n_jobs=-1).mean()\n",
    "\n",
    "    # ставим знак минус т.к. hyperopt минимизирует,\n",
    "    # а нам нужен максимум значения метрики\n",
    "    return -score"
   ]
  },
  {
   "cell_type": "code",
   "execution_count": 20,
   "metadata": {},
   "outputs": [
    {
     "name": "stdout",
     "output_type": "stream",
     "text": [
      "100%|███████████████████████████████████████████████| 20/20 [00:53<00:00,  2.66s/trial, best loss: -0.8144022224940158]\n",
      "Наилучшие значения гиперпараметров {'max_depth': 13.0, 'min_samples_leaf': 3.0, 'n_estimators': 125.0}\n",
      "CPU times: total: 23.1 s\n",
      "Wall time: 53.2 s\n"
     ]
    }
   ],
   "source": [
    "%%time\n",
    "# начинаем подбор гиперпараметров\n",
    "\n",
    "trials = Trials() # используется для логирования результатов\n",
    "\n",
    "best = fmin(hyperopt_rf, # наша функция \n",
    "            space = space, # пространство гиперпараметров\n",
    "            algo = tpe.suggest, # алгоритм оптимизации, по умолчанию\n",
    "            max_evals = 20, # максимальное количество итераций\n",
    "            trials = trials, # логирование результатов\n",
    "            rstate=np.random.default_rng(42) # фиксируем для повторяемости результата\n",
    "           )\n",
    "\n",
    "print(\"Наилучшие значения гиперпараметров {}\".format(best))"
   ]
  },
  {
   "cell_type": "code",
   "execution_count": 21,
   "metadata": {},
   "outputs": [
    {
     "name": "stdout",
     "output_type": "stream",
     "text": [
      "accuracy на тестовом наборе: 0.77\n",
      "f1_score на тестовом наборе: 0.80\n"
     ]
    }
   ],
   "source": [
    "# рассчитаем метрику для тестовой выборки построив модель\n",
    "# c наилучшими значниями гиперпараметров\n",
    "model = ensemble.RandomForestClassifier(\n",
    "    random_state = 42, # фиксируем для повторяемости результата\n",
    "    n_estimators = int(best['n_estimators']),\n",
    "    max_depth = int(best['max_depth']),\n",
    "    min_samples_leaf = int(best['min_samples_leaf'])\n",
    ")\n",
    "\n",
    "# обучаем модель \n",
    "model.fit(X_train, y_train)\n",
    "\n",
    "# выводим значение метрики \n",
    "print(\"accuracy на тестовом наборе: {:.2f}\".format(model.score(X_test, y_test)))\n",
    "y_test_pred = model.predict(X_test)\n",
    "print('f1_score на тестовом наборе: {:.2f}'.format(metrics.f1_score(y_test, y_test_pred)))"
   ]
  },
  {
   "cell_type": "markdown",
   "metadata": {},
   "source": [
    "### <center> **Подбор гиперпараметров с помощью Optuna**"
   ]
  },
  {
   "cell_type": "code",
   "execution_count": 16,
   "metadata": {},
   "outputs": [],
   "source": [
    "def optuna_rf(trial):\n",
    "  # задаем пространства поиска гиперпараметров\n",
    "  n_estimators = trial.suggest_int('n_estimators', 50, 200, 1) # количество деревьев\n",
    "  max_depth = trial.suggest_int('max_depth', 10, 20, 1) # максимальная глубина дерева\n",
    "  min_samples_leaf = trial.suggest_int('min_samples_leaf', 2, 10, 1) # минимальное число объектов в листе\n",
    "\n",
    "  # создаем модель\n",
    "  model = ensemble.RandomForestClassifier(\n",
    "      n_estimators = n_estimators,\n",
    "      max_depth = max_depth,\n",
    "      min_samples_leaf = min_samples_leaf,\n",
    "      random_state = 42)\n",
    "    \n",
    "  # обучаем модель\n",
    "  model.fit(X_train, y_train)\n",
    "    \n",
    "  # применим кросс-валидацию с количеством фолдов 5 \n",
    "  # и возьмем среднее значение результатов вычисления метрики f1\n",
    "    \n",
    "  # задаём параметры кросс-валидации (стратифицированная с перемешиванием)\n",
    "  skf = StratifiedKFold(n_splits=5, \n",
    "                        shuffle=True, \n",
    "                        random_state=1\n",
    "                       )\n",
    "  # проводим кросс-валидацию \n",
    "  score = cross_val_score(model, X_train, y_train, cv=skf, scoring=\"f1\", n_jobs=-1).mean()  \n",
    "\n",
    "  return score"
   ]
  },
  {
   "cell_type": "code",
   "execution_count": 17,
   "metadata": {},
   "outputs": [
    {
     "name": "stderr",
     "output_type": "stream",
     "text": [
      "[I 2023-06-23 04:09:02,014] A new study created in memory with name: RandomForestClassifier\n",
      "[I 2023-06-23 04:09:05,599] Trial 0 finished with value: 0.8135672740728541 and parameters: {'n_estimators': 145, 'max_depth': 12, 'min_samples_leaf': 3}. Best is trial 0 with value: 0.8135672740728541.\n",
      "[I 2023-06-23 04:09:08,237] Trial 1 finished with value: 0.8128410790781586 and parameters: {'n_estimators': 93, 'max_depth': 18, 'min_samples_leaf': 4}. Best is trial 0 with value: 0.8135672740728541.\n",
      "[I 2023-06-23 04:09:09,802] Trial 2 finished with value: 0.7989231567628704 and parameters: {'n_estimators': 52, 'max_depth': 18, 'min_samples_leaf': 7}. Best is trial 0 with value: 0.8135672740728541.\n",
      "[I 2023-06-23 04:09:13,978] Trial 3 finished with value: 0.8076045292328127 and parameters: {'n_estimators': 193, 'max_depth': 12, 'min_samples_leaf': 6}. Best is trial 0 with value: 0.8135672740728541.\n",
      "[I 2023-06-23 04:09:16,806] Trial 4 finished with value: 0.8073651219125347 and parameters: {'n_estimators': 112, 'max_depth': 16, 'min_samples_leaf': 5}. Best is trial 0 with value: 0.8135672740728541.\n",
      "[I 2023-06-23 04:09:20,243] Trial 5 finished with value: 0.7988202533226754 and parameters: {'n_estimators': 165, 'max_depth': 12, 'min_samples_leaf': 10}. Best is trial 0 with value: 0.8135672740728541.\n",
      "[I 2023-06-23 04:09:24,572] Trial 6 finished with value: 0.814806557163509 and parameters: {'n_estimators': 171, 'max_depth': 14, 'min_samples_leaf': 3}. Best is trial 6 with value: 0.814806557163509.\n",
      "[I 2023-06-23 04:09:27,390] Trial 7 finished with value: 0.813963876747661 and parameters: {'n_estimators': 103, 'max_depth': 15, 'min_samples_leaf': 4}. Best is trial 6 with value: 0.814806557163509.\n",
      "[I 2023-06-23 04:09:31,510] Trial 8 finished with value: 0.8117033223390415 and parameters: {'n_estimators': 176, 'max_depth': 12, 'min_samples_leaf': 4}. Best is trial 6 with value: 0.814806557163509.\n",
      "[I 2023-06-23 04:09:33,135] Trial 9 finished with value: 0.8079023657253105 and parameters: {'n_estimators': 56, 'max_depth': 18, 'min_samples_leaf': 8}. Best is trial 6 with value: 0.814806557163509.\n",
      "[I 2023-06-23 04:09:36,382] Trial 10 finished with value: 0.8089701113114606 and parameters: {'n_estimators': 142, 'max_depth': 10, 'min_samples_leaf': 2}. Best is trial 6 with value: 0.814806557163509.\n",
      "[I 2023-06-23 04:09:39,242] Trial 11 finished with value: 0.8156563832837096 and parameters: {'n_estimators': 96, 'max_depth': 15, 'min_samples_leaf': 2}. Best is trial 11 with value: 0.8156563832837096.\n",
      "[I 2023-06-23 04:09:42,004] Trial 12 finished with value: 0.8150056457530488 and parameters: {'n_estimators': 85, 'max_depth': 15, 'min_samples_leaf': 2}. Best is trial 11 with value: 0.8156563832837096.\n",
      "[I 2023-06-23 04:09:44,682] Trial 13 finished with value: 0.816716692287142 and parameters: {'n_estimators': 84, 'max_depth': 16, 'min_samples_leaf': 2}. Best is trial 13 with value: 0.816716692287142.\n",
      "[I 2023-06-23 04:09:47,189] Trial 14 finished with value: 0.8163890974359443 and parameters: {'n_estimators': 79, 'max_depth': 20, 'min_samples_leaf': 2}. Best is trial 13 with value: 0.816716692287142.\n",
      "[I 2023-06-23 04:09:48,853] Trial 15 finished with value: 0.7956279944291665 and parameters: {'n_estimators': 65, 'max_depth': 20, 'min_samples_leaf': 9}. Best is trial 13 with value: 0.816716692287142.\n",
      "[I 2023-06-23 04:09:51,025] Trial 16 finished with value: 0.8095434286439597 and parameters: {'n_estimators': 72, 'max_depth': 20, 'min_samples_leaf': 6}. Best is trial 13 with value: 0.816716692287142.\n",
      "[I 2023-06-23 04:09:54,587] Trial 17 finished with value: 0.8131808373594975 and parameters: {'n_estimators': 122, 'max_depth': 17, 'min_samples_leaf': 3}. Best is trial 13 with value: 0.816716692287142.\n",
      "[I 2023-06-23 04:09:56,928] Trial 18 finished with value: 0.8066065712660355 and parameters: {'n_estimators': 82, 'max_depth': 19, 'min_samples_leaf': 5}. Best is trial 13 with value: 0.816716692287142.\n",
      "[I 2023-06-23 04:10:00,446] Trial 19 finished with value: 0.8149501835983692 and parameters: {'n_estimators': 114, 'max_depth': 17, 'min_samples_leaf': 2}. Best is trial 13 with value: 0.816716692287142.\n"
     ]
    },
    {
     "name": "stdout",
     "output_type": "stream",
     "text": [
      "Наилучшие значения гиперпараметров {'n_estimators': 84, 'max_depth': 16, 'min_samples_leaf': 2}\n",
      "CPU times: total: 25.7 s\n",
      "Wall time: 58.4 s\n"
     ]
    }
   ],
   "source": [
    "%%time\n",
    "# cоздаем объект исследования,указав максимизацию метрики\n",
    "study = optuna.create_study(study_name = \"RandomForestClassifier\", \n",
    "                            direction = \"maximize\"\n",
    "                            )\n",
    "\n",
    "# ищем лучшую комбинацию гиперпараметров 20 раз\n",
    "study.optimize(optuna_rf, n_trials=20)\n",
    "\n",
    "print(\"Наилучшие значения гиперпараметров {}\".format(study.best_params))"
   ]
  },
  {
   "cell_type": "code",
   "execution_count": 15,
   "metadata": {},
   "outputs": [
    {
     "name": "stdout",
     "output_type": "stream",
     "text": [
      "accuracy на тестовом наборе: 0.78\n",
      "f1_score на тестовом наборе: 0.80\n"
     ]
    }
   ],
   "source": [
    "# рассчитаем метрику для тестовой выборки построив модель\n",
    "# c наилучшими значниями гиперпараметров\n",
    "model = ensemble.RandomForestClassifier(**study.best_params,random_state=42)\n",
    "\n",
    "# обучаем модель \n",
    "model.fit(X_train, y_train)\n",
    "\n",
    "# выводим значение метрики \n",
    "print(\"accuracy на тестовом наборе: {:.2f}\".format(model.score(X_test, y_test)))\n",
    "y_test_pred = model.predict(X_test)\n",
    "print('f1_score на тестовом наборе: {:.2f}'.format(metrics.f1_score(y_test, y_test_pred)))"
   ]
  }
 ],
 "metadata": {
  "kernelspec": {
   "display_name": "Python 3 (ipykernel)",
   "language": "python",
   "name": "python3"
  },
  "language_info": {
   "codemirror_mode": {
    "name": "ipython",
    "version": 3
   },
   "file_extension": ".py",
   "mimetype": "text/x-python",
   "name": "python",
   "nbconvert_exporter": "python",
   "pygments_lexer": "ipython3",
   "version": "3.10.8"
  }
 },
 "nbformat": 4,
 "nbformat_minor": 2
}
