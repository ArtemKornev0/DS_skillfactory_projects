{
 "cells": [
  {
   "attachments": {},
   "cell_type": "markdown",
   "metadata": {},
   "source": [
    "# Импорт библиотек"
   ]
  },
  {
   "cell_type": "code",
   "execution_count": 1,
   "metadata": {},
   "outputs": [],
   "source": [
    "import pandas as pd"
   ]
  },
  {
   "attachments": {},
   "cell_type": "markdown",
   "metadata": {},
   "source": [
    "# Загрузка данных"
   ]
  },
  {
   "cell_type": "code",
   "execution_count": 2,
   "metadata": {},
   "outputs": [
    {
     "data": {
      "text/html": [
       "<div>\n",
       "<style scoped>\n",
       "    .dataframe tbody tr th:only-of-type {\n",
       "        vertical-align: middle;\n",
       "    }\n",
       "\n",
       "    .dataframe tbody tr th {\n",
       "        vertical-align: top;\n",
       "    }\n",
       "\n",
       "    .dataframe thead th {\n",
       "        text-align: right;\n",
       "    }\n",
       "</style>\n",
       "<table border=\"1\" class=\"dataframe\">\n",
       "  <thead>\n",
       "    <tr style=\"text-align: right;\">\n",
       "      <th></th>\n",
       "      <th>petersburg</th>\n",
       "      <th>magadan</th>\n",
       "    </tr>\n",
       "  </thead>\n",
       "  <tbody>\n",
       "    <tr>\n",
       "      <th>0</th>\n",
       "      <td>0.0974</td>\n",
       "      <td>0.1033</td>\n",
       "    </tr>\n",
       "    <tr>\n",
       "      <th>1</th>\n",
       "      <td>0.1352</td>\n",
       "      <td>0.0915</td>\n",
       "    </tr>\n",
       "    <tr>\n",
       "      <th>2</th>\n",
       "      <td>0.0817</td>\n",
       "      <td>0.0781</td>\n",
       "    </tr>\n",
       "    <tr>\n",
       "      <th>3</th>\n",
       "      <td>0.1016</td>\n",
       "      <td>0.0685</td>\n",
       "    </tr>\n",
       "    <tr>\n",
       "      <th>4</th>\n",
       "      <td>0.0968</td>\n",
       "      <td>0.0677</td>\n",
       "    </tr>\n",
       "    <tr>\n",
       "      <th>5</th>\n",
       "      <td>0.1064</td>\n",
       "      <td>0.0697</td>\n",
       "    </tr>\n",
       "    <tr>\n",
       "      <th>6</th>\n",
       "      <td>0.1050</td>\n",
       "      <td>0.0764</td>\n",
       "    </tr>\n",
       "    <tr>\n",
       "      <th>7</th>\n",
       "      <td>NaN</td>\n",
       "      <td>0.0689</td>\n",
       "    </tr>\n",
       "  </tbody>\n",
       "</table>\n",
       "</div>"
      ],
      "text/plain": [
       "   petersburg  magadan\n",
       "0      0.0974   0.1033\n",
       "1      0.1352   0.0915\n",
       "2      0.0817   0.0781\n",
       "3      0.1016   0.0685\n",
       "4      0.0968   0.0677\n",
       "5      0.1064   0.0697\n",
       "6      0.1050   0.0764\n",
       "7         NaN   0.0689"
      ]
     },
     "execution_count": 2,
     "metadata": {},
     "output_type": "execute_result"
    }
   ],
   "source": [
    "# извне заданные данные (два списка размеров устриц в Петербурге и Магадане), \n",
    "# размеры списков разные\n",
    "petersburg = [0.0974, 0.1352, 0.0817, 0.1016, 0.0968, 0.1064, 0.105]\n",
    "magadan = [0.1033, 0.0915, 0.0781, 0.0685, 0.0677, 0.0697, 0.0764, 0.0689]\n",
    "\n",
    "# объединение списков в DataFrame (создание двух DataFrame и их объединение)\n",
    "petersburg_df = pd.DataFrame({'petersburg': petersburg})\n",
    "magadan_df = pd.DataFrame({'magadan': magadan})\n",
    "oysters = pd.concat([petersburg_df, magadan_df], axis=1)\n",
    "\n",
    "# проверка результата\n",
    "oysters"
   ]
  },
  {
   "attachments": {},
   "cell_type": "markdown",
   "metadata": {},
   "source": [
    "# Проверка данных на нормальность"
   ]
  },
  {
   "cell_type": "code",
   "execution_count": 3,
   "metadata": {},
   "outputs": [],
   "source": [
    "# установка гипотез (нулевой и альтернативной)\n",
    "H0 = 'Данные распределены нормально'\n",
    "Ha = 'Данные не распределены нормально (мы отвергаем H0)'"
   ]
  },
  {
   "cell_type": "code",
   "execution_count": 4,
   "metadata": {},
   "outputs": [],
   "source": [
    "# установка уровня значимости\n",
    "alpha = 0.05"
   ]
  },
  {
   "attachments": {},
   "cell_type": "markdown",
   "metadata": {},
   "source": [
    "### Тест Шапиро-Уилка"
   ]
  },
  {
   "cell_type": "code",
   "execution_count": 5,
   "metadata": {},
   "outputs": [],
   "source": [
    "# импорт теста Шапиро-Уилка\n",
    "from scipy.stats import shapiro"
   ]
  },
  {
   "cell_type": "code",
   "execution_count": 6,
   "metadata": {},
   "outputs": [
    {
     "name": "stdout",
     "output_type": "stream",
     "text": [
      "Statistics=0.883, p-value=0.242\n",
      "Данные распределены нормально\n"
     ]
    }
   ],
   "source": [
    "# выполнение теста для первой группы 'petersburg', получаем интересующее p-value\n",
    "# причем берется массив без последнего элемента, т.к. тот = NaN\n",
    "stat, p = shapiro(oysters.loc[0:6, 'petersburg'])\n",
    "print('Statistics=%.3f, p-value=%.3f' % (stat, p))\n",
    "\n",
    "# Интерпретация \n",
    "if p > alpha:\n",
    "\tprint(H0)\n",
    "else:\n",
    "\tprint(Ha)"
   ]
  },
  {
   "cell_type": "code",
   "execution_count": 7,
   "metadata": {},
   "outputs": [
    {
     "name": "stdout",
     "output_type": "stream",
     "text": [
      "Statistics=0.809, p-value=0.036\n",
      "Данные не распределены нормально (мы отвергаем H0)\n"
     ]
    }
   ],
   "source": [
    "# выполнение теста для второй группы 'magadan', получаем интересующее p-value\n",
    "stat, p = shapiro(oysters['magadan'])\n",
    "print('Statistics=%.3f, p-value=%.3f' % (stat, p))\n",
    "\n",
    "# Интерпретация \n",
    "if p > alpha:\n",
    "\tprint(H0)\n",
    "else:\n",
    "\tprint(Ha)"
   ]
  },
  {
   "attachments": {},
   "cell_type": "markdown",
   "metadata": {},
   "source": [
    "### Тест Д’Агостино"
   ]
  },
  {
   "cell_type": "code",
   "execution_count": 8,
   "metadata": {},
   "outputs": [],
   "source": [
    "# импорт теста Д'Агостино\n",
    "from scipy.stats import normaltest"
   ]
  },
  {
   "cell_type": "code",
   "execution_count": 9,
   "metadata": {},
   "outputs": [],
   "source": [
    "# выполнение теста для первой группы 'petersburg', \n",
    "# к сожалению, в состав данного теста входит skewtest, который не может быть\n",
    "# выполнен для массива с менее, чем 8 элементами (существующими)\n",
    "# stat, p = normaltest(oysters['petersburg'], nan_policy='omit')"
   ]
  },
  {
   "cell_type": "code",
   "execution_count": 10,
   "metadata": {},
   "outputs": [
    {
     "name": "stdout",
     "output_type": "stream",
     "text": [
      "Statistics=3.738, p-value=0.154\n",
      "Данные распределены нормально\n"
     ]
    },
    {
     "name": "stderr",
     "output_type": "stream",
     "text": [
      "c:\\Users\\artem\\AppData\\Local\\Programs\\Python\\Python310\\lib\\site-packages\\scipy\\stats\\_stats_py.py:1772: UserWarning: kurtosistest only valid for n>=20 ... continuing anyway, n=8\n",
      "  warnings.warn(\"kurtosistest only valid for n>=20 ... continuing \"\n"
     ]
    }
   ],
   "source": [
    "# выполнение теста для второй группы 'magadan', получаем интересующее p-value\n",
    "stat, p = normaltest(oysters['magadan'])\n",
    "print('Statistics=%.3f, p-value=%.3f' % (stat, p))\n",
    "\n",
    "# Интерпретация \n",
    "if p > alpha:\n",
    "\tprint(H0)\n",
    "else:\n",
    "\tprint(Ha)"
   ]
  },
  {
   "attachments": {},
   "cell_type": "markdown",
   "metadata": {},
   "source": [
    "### Тест Андерсона-Дарлинга"
   ]
  },
  {
   "cell_type": "code",
   "execution_count": 11,
   "metadata": {},
   "outputs": [],
   "source": [
    "# импорт теста Андерсона-Дарлинга\n",
    "from scipy.stats import anderson"
   ]
  },
  {
   "cell_type": "code",
   "execution_count": 12,
   "metadata": {},
   "outputs": [
    {
     "name": "stdout",
     "output_type": "stream",
     "text": [
      "Statistic: 0.497\n",
      "Уровень значимости: 15%, p-value: 0.543, Данные распределены нормально\n",
      "Уровень значимости: 10%, p-value: 0.618, Данные распределены нормально\n",
      "Уровень значимости: 5%, p-value: 0.742, Данные распределены нормально\n",
      "Уровень значимости: 2%, p-value: 0.865, Данные распределены нормально\n",
      "Уровень значимости: 1%, p-value: 1.029, Данные распределены нормально\n"
     ]
    }
   ],
   "source": [
    "# выполнение теста для первой группы 'petersburg', \n",
    "# получаем интересующее p-value, \n",
    "# причем берется массив без последнего элемента, т.к. тот = NaN\n",
    "result = anderson(oysters.loc[0:6, 'petersburg'])\n",
    "print('Statistic: %.3f' % result.statistic)\n",
    "\n",
    "for i in range(len(result.critical_values)):\n",
    "\tsl, cv = result.significance_level[i], result.critical_values[i]\n",
    "\tif result.statistic < result.critical_values[i]:\n",
    "\t\tprint(f'Уровень значимости: {int(sl)}%, p-value: {cv},', H0)\n",
    "\telse:\n",
    "\t\tprint(f'Уровень значимости: {int(sl)}%, p-value: {cv},', Ha)"
   ]
  },
  {
   "cell_type": "code",
   "execution_count": 13,
   "metadata": {},
   "outputs": [
    {
     "name": "stdout",
     "output_type": "stream",
     "text": [
      "Statistic: 0.691\n",
      "Уровень значимости: 15%, p-value: 0.519, Данные не распределены нормально (мы отвергаем H0)\n",
      "Уровень значимости: 10%, p-value: 0.591, Данные не распределены нормально (мы отвергаем H0)\n",
      "Уровень значимости: 5%, p-value: 0.709, Данные распределены нормально\n",
      "Уровень значимости: 2%, p-value: 0.827, Данные распределены нормально\n",
      "Уровень значимости: 1%, p-value: 0.984, Данные распределены нормально\n"
     ]
    }
   ],
   "source": [
    "# выполнение теста для второй группы 'magadan', получаем интересующее p-value\n",
    "result = anderson(oysters['magadan'])\n",
    "print('Statistic: %.3f' % result.statistic)\n",
    "\n",
    "for i in range(len(result.critical_values)):\n",
    "\tsl, cv = result.significance_level[i], result.critical_values[i]\n",
    "\tif result.statistic < result.critical_values[i]:\n",
    "\t\tprint(f'Уровень значимости: {int(sl)}%, p-value: {cv},', H0)\n",
    "\telse:\n",
    "\t\tprint(f'Уровень значимости: {int(sl)}%, p-value: {cv},', Ha)"
   ]
  },
  {
   "attachments": {},
   "cell_type": "markdown",
   "metadata": {},
   "source": [
    "### Вывод о нормальности данных"
   ]
  },
  {
   "attachments": {},
   "cell_type": "markdown",
   "metadata": {},
   "source": [
    "На основе трех проведенных тестов \"на нормальность\" не представляется сделать твердый, уверенный, однозначный вывод о нормальном распределении имеющихся данных. В частности это связано с малым количеством образцов(7 и 8).\n",
    "Приблизительно, можно принять, что распределение данных близко к нормальному."
   ]
  },
  {
   "attachments": {},
   "cell_type": "markdown",
   "metadata": {},
   "source": [
    "## Выявление наличия корреляции"
   ]
  },
  {
   "attachments": {},
   "cell_type": "markdown",
   "metadata": {},
   "source": [
    "Для выявления возможной корреляции следует использовать непараметрический метод (в связи с отсутствием твердой уверенности в нормальном распределении данных)."
   ]
  },
  {
   "attachments": {},
   "cell_type": "markdown",
   "metadata": {},
   "source": [
    "###  Тест на корреляцию Спирмена"
   ]
  },
  {
   "cell_type": "code",
   "execution_count": 14,
   "metadata": {},
   "outputs": [],
   "source": [
    "# импорт теста Спирмена\n",
    "from scipy.stats import spearmanr"
   ]
  },
  {
   "cell_type": "code",
   "execution_count": 15,
   "metadata": {},
   "outputs": [
    {
     "name": "stdout",
     "output_type": "stream",
     "text": [
      "Коэффициент корреляции = 0.143\n",
      "p-value = 0.760\n"
     ]
    }
   ],
   "source": [
    "# выполнение теста , причем игнорируется значение NaN\n",
    "rho, p = spearmanr(oysters, nan_policy='omit')\n",
    "\n",
    "# вывод результата, причем\n",
    "# p-value неинформативен, т.к. точность зависит от \n",
    "# размера выборки (требуется от 500)\n",
    "print('Коэффициент корреляции = %.3f' % rho)\n",
    "print('p-value = %.3f' % p)"
   ]
  },
  {
   "attachments": {},
   "cell_type": "markdown",
   "metadata": {},
   "source": [
    "### Тест на корреляцию Кендалла"
   ]
  },
  {
   "cell_type": "code",
   "execution_count": 16,
   "metadata": {},
   "outputs": [],
   "source": [
    "# импорт теста Кендалла\n",
    "from scipy.stats import kendalltau"
   ]
  },
  {
   "cell_type": "code",
   "execution_count": 17,
   "metadata": {},
   "outputs": [
    {
     "name": "stdout",
     "output_type": "stream",
     "text": [
      "Коэффициент корреляции = 0.143\n",
      "p-value = 0.773\n"
     ]
    }
   ],
   "source": [
    "# выполнение теста , причем игнорируется значение NaN\n",
    "coef, p = kendalltau(oysters['petersburg'], oysters['magadan'], nan_policy='omit')\n",
    "\n",
    "# вывод результата\n",
    "print('Коэффициент корреляции = %.3f' % coef)\n",
    "print('p-value = %.3f' % p)"
   ]
  },
  {
   "attachments": {},
   "cell_type": "markdown",
   "metadata": {},
   "source": [
    "### Дополнительно"
   ]
  },
  {
   "attachments": {},
   "cell_type": "markdown",
   "metadata": {},
   "source": [
    "Т.к. ранее сказано: \"Приблизительно, можно принять, что распределение данных близко к нормальному\" - проверим наличие корреляции с помощью параметрического теста на корреляцию Пирсона."
   ]
  },
  {
   "attachments": {},
   "cell_type": "markdown",
   "metadata": {},
   "source": [
    "### Тест на корреляцию Пирсона"
   ]
  },
  {
   "cell_type": "code",
   "execution_count": 18,
   "metadata": {},
   "outputs": [],
   "source": [
    "# импорт теста Пирсона\n",
    "from scipy.stats import pearsonr"
   ]
  },
  {
   "cell_type": "code",
   "execution_count": 19,
   "metadata": {},
   "outputs": [
    {
     "name": "stdout",
     "output_type": "stream",
     "text": [
      "Коэффициент корреляции = 0.257\n",
      "p-value = 0.539\n"
     ]
    }
   ],
   "source": [
    "# данный тест не работает с выборками с наличием NaN,\n",
    "# заменим последний элемент для petersburg на медиану,\n",
    "# с учетом того, что принимаем эту выборку за нормально распределенную\n",
    "oysters_copy = oysters.copy()\n",
    "oysters_copy.loc[7, 'petersburg'] = oysters_copy['petersburg'].median()\n",
    "\n",
    "# выполнение теста \n",
    "corr, p = pearsonr(oysters_copy['petersburg'], oysters_copy['magadan'])\n",
    "\n",
    "# вывод результата\n",
    "print('Коэффициент корреляции = %.3f' % corr)\n",
    "print('p-value = %.3f' % p)"
   ]
  },
  {
   "attachments": {},
   "cell_type": "markdown",
   "metadata": {},
   "source": [
    "### Вывод о наличии корреляции"
   ]
  },
  {
   "attachments": {},
   "cell_type": "markdown",
   "metadata": {},
   "source": [
    "Оба непараметрических теста показали коэффициент корреляции 0.143. Что соответствует прямой очень слабой связи. Параметрический тест также показал схожий результат 0.257.\n",
    "Можно считать, что корреляция между двумя проверяемыми массивами отсутствует (настолько мала, что ее можно не принимать в расчет).\n",
    "Дополнительно можно обратить внимание на величины p-value, они велики: 0.54, 0.76, 0.77. Это также свидетельствует против наличия корреляции между имеющимися выборками."
   ]
  },
  {
   "attachments": {},
   "cell_type": "markdown",
   "metadata": {},
   "source": [
    "## Какова разница в среднем размере мидии в зависимости от города-производителя"
   ]
  },
  {
   "attachments": {},
   "cell_type": "markdown",
   "metadata": {},
   "source": [
    " Для данного исследования будет использован непараметрический тест - ранговый тест Манна-Уитни (тест суммы рангов Уилкоксона). Выбор сязан с тем, что имеется именно пара выборок, выборки независимы, размеры выборок малы (n < 30) и распределение считается отличным от нормального."
   ]
  },
  {
   "attachments": {},
   "cell_type": "markdown",
   "metadata": {},
   "source": [
    "### Tест Манна-Уитни"
   ]
  },
  {
   "cell_type": "code",
   "execution_count": 20,
   "metadata": {},
   "outputs": [],
   "source": [
    "# импорт теста Манна-Уитни\n",
    "from scipy.stats import mannwhitneyu"
   ]
  },
  {
   "cell_type": "code",
   "execution_count": 21,
   "metadata": {},
   "outputs": [
    {
     "name": "stdout",
     "output_type": "stream",
     "text": [
      "Up-статистика Манна-Уитни для распределения petersburg= 51\n",
      "p-value = 0.006\n"
     ]
    }
   ],
   "source": [
    "# выполнение теста, причем игнорируется значение NaN\n",
    "Up, p = mannwhitneyu(oysters.loc[0:6, 'petersburg'], oysters['magadan'])\n",
    "\n",
    "# вывод результата\n",
    "# статистика вычислена для распределения 'petersburg' \n",
    "# (для первой выборки)\n",
    "print('Up-статистика Манна-Уитни для распределения petersburg = %.0f' % Up)\n",
    "print('p-value = %.3f' % p)"
   ]
  },
  {
   "cell_type": "code",
   "execution_count": 22,
   "metadata": {},
   "outputs": [
    {
     "name": "stdout",
     "output_type": "stream",
     "text": [
      "Um-статистика Манна-Уитни для распределения magadan = 5\n"
     ]
    }
   ],
   "source": [
    "# вычисление статистики для распределения 'magadan'\n",
    "nx, ny = len(oysters.loc[0:6, 'petersburg']), len(oysters['magadan'])\n",
    "Um = nx*ny - Up\n",
    "print('Um-статистика Манна-Уитни для распределения magadan = %.0f' % Um)"
   ]
  },
  {
   "cell_type": "code",
   "execution_count": 23,
   "metadata": {},
   "outputs": [
    {
     "name": "stdout",
     "output_type": "stream",
     "text": [
      "U-статистика Манна-Уитни = 5\n"
     ]
    }
   ],
   "source": [
    "# U-статистика Манна-Уитни\n",
    "U = min(Um, Up)\n",
    "print('U-статистика Манна-Уитни = %.0f' % U)"
   ]
  },
  {
   "attachments": {},
   "cell_type": "markdown",
   "metadata": {},
   "source": [
    "### Интерпретация теста"
   ]
  },
  {
   "attachments": {},
   "cell_type": "markdown",
   "metadata": {},
   "source": [
    "Нулевая гипотеза для рангового теста Манна-Уитни заключается в том, что распределение, лежащее в основе выборки первой выборки, совпадает с распределением, лежащим в основе второй выборки.\n",
    "\n",
    "В данном случае нулевая гипотеза заключается в совпадении средних значений двух независимых выборок (средних размеров мидий в двух городах-производителях). Альтернативная гипотеза - средние значения двух выборок различны (существенно отличаются). Уровень статистической значимости примем 0.05.\n",
    "\n",
    "По результатам теста получено значение U-статистики (критерия) Манна-Уитни: 5. По таблице критических значений, для выбранного уровня статистической значимости 0.05, определено критическое значение U-критерия Манна-Уитни для количества элементов первой и второй выборки: 10. Т.о. полученное значение U-статистики меньше табличного (5 < 10) (существенно меньше).  Следовательно признается наличие существенного различия между уровнем признака (среднее значение) в рассматриваемых выборках (принимается альтернативная гипотеза). \n",
    "\n",
    "Следует отметить значение p-value равное 0.006. Соответственно полученные результаты можно считать статистически значимыми. И данное значение также подтверждает отклонение нулевой гипотезы."
   ]
  },
  {
   "attachments": {},
   "cell_type": "markdown",
   "metadata": {},
   "source": [
    "### Дополнительно"
   ]
  },
  {
   "attachments": {},
   "cell_type": "markdown",
   "metadata": {},
   "source": [
    "Т.к. ранее сказано: \"Приблизительно, можно принять, что распределение данных близко к нормальному\" - дополнительно используем t-критерий для двух независимых выборок."
   ]
  },
  {
   "attachments": {},
   "cell_type": "markdown",
   "metadata": {},
   "source": [
    "### T-критерий для двух независимых выборок"
   ]
  },
  {
   "cell_type": "code",
   "execution_count": 24,
   "metadata": {},
   "outputs": [],
   "source": [
    "# импорт теста t-критерий для двух независимых выборок\n",
    "from scipy.stats import ttest_ind"
   ]
  },
  {
   "cell_type": "code",
   "execution_count": 25,
   "metadata": {},
   "outputs": [
    {
     "name": "stdout",
     "output_type": "stream",
     "text": [
      "t-статистика = 3.325\n",
      "p-value = 0.006\n"
     ]
    }
   ],
   "source": [
    "# выполнение теста, причем игнорируется значение NaN,\n",
    "# кроме того выполнение именно t-критерия Уэлча,\n",
    "# (equal_var=False) т.е. считаем, что дисперсии \n",
    "# элементов выборок не равны\n",
    "stat, p = ttest_ind(oysters['petersburg'], oysters['magadan'], nan_policy='omit', equal_var=False)\n",
    "print('t-статистика = %.3f' % stat)\n",
    "print('p-value = %.3f' % p)"
   ]
  },
  {
   "attachments": {},
   "cell_type": "markdown",
   "metadata": {},
   "source": [
    "### Интерпретация теста"
   ]
  },
  {
   "attachments": {},
   "cell_type": "markdown",
   "metadata": {},
   "source": [
    "Данный тест проверяет нулевую гипотезу о том, что две независимые выборки имеют одинаковые средние (ожидаемые) значения. \n",
    "\n",
    "Т.е. нулевая гипотеза: средние значения двух независимых выборок (средние размеры мидий в двух городах-производителях) совпадают. Альтернативная гипотеза - средние значения двух выборок различны (существенно отличаются). Уровень статистической значимости примем 0.05.\n",
    "\n",
    "По результатам теста получаем значение p-value = 0.006. Т.о. результаты являются статистически значимыми и нулевая гипотеза отклоняется. Соответственно, принимается альтернативная гипотеза - средние значения существенно отличаются.\n",
    "\n",
    "Дополнительно. Если принять, что дисперсии элементов выборок равны (t-критерий Стьюдента), то p-value = 0.005. Т.е. результат неизменен."
   ]
  },
  {
   "attachments": {},
   "cell_type": "markdown",
   "metadata": {},
   "source": [
    "## Разница в среднем размере мидии в зависимости от города-производителя - **существенно различна**."
   ]
  }
 ],
 "metadata": {
  "kernelspec": {
   "display_name": "Python 3",
   "language": "python",
   "name": "python3"
  },
  "language_info": {
   "codemirror_mode": {
    "name": "ipython",
    "version": 3
   },
   "file_extension": ".py",
   "mimetype": "text/x-python",
   "name": "python",
   "nbconvert_exporter": "python",
   "pygments_lexer": "ipython3",
   "version": "3.10.8"
  },
  "orig_nbformat": 4
 },
 "nbformat": 4,
 "nbformat_minor": 2
}
